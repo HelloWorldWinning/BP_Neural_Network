{
 "cells": [
  {
   "cell_type": "code",
   "execution_count": 1,
   "metadata": {
    "collapsed": true
   },
   "outputs": [],
   "source": [
    "import numpy as np"
   ]
  },
  {
   "cell_type": "code",
   "execution_count": 2,
   "metadata": {
    "collapsed": false
   },
   "outputs": [],
   "source": [
    "import pandas as pd\n",
    "from sklearn.datasets import load_iris\n",
    "import matplotlib.pyplot as plt\n",
    "from sklearn.metrics import recall_score\n",
    "from sklearn.metrics import precision_score"
   ]
  },
  {
   "cell_type": "code",
   "execution_count": 3,
   "metadata": {
    "collapsed": false
   },
   "outputs": [],
   "source": [
    "\n",
    "data_raw=load_iris()\n",
    "\n",
    "data_x=data_raw['data'][:100]\n",
    "data_y=data_raw['target'][:100]\n",
    "\n",
    "data_all=pd.DataFrame(data_x)\n",
    "data_all['target']=data_y\n",
    "\n",
    "test_data=data_all.sample(frac=0.2)\n",
    "\n",
    "train_data=data_all.drop(test_data.index)"
   ]
  },
  {
   "cell_type": "markdown",
   "metadata": {},
   "source": [
    "$${\\displaystyle f(x)={\\frac {1}{1+e^{-x}}}={\\frac {e^{x}}{1+e^{x}}}}$$\n",
    "\n",
    "$${\\displaystyle {\\frac {d}{dx}}f(x)={\\frac {e^{x}}{(1+e^{x})^{2}}}=f(x)(1-f(x))}\n",
    "$$"
   ]
  },
  {
   "cell_type": "code",
   "execution_count": 4,
   "metadata": {
    "collapsed": true
   },
   "outputs": [],
   "source": [
    "def sigmoid(x,deri=False):\n",
    "    x=np.array(x,dtype=np.float128)\n",
    "    if deri==False:\n",
    "        \n",
    "        return np.array(1/(1+np.exp(-x)),dtype=np.float128)\n",
    "    elif deri==True:\n",
    "        return np.array(sigmoid(x)*(1-sigmoid(x)),dtype=np.float128)\n",
    "    else:\n",
    "        print('input error')"
   ]
  },
  {
   "cell_type": "code",
   "execution_count": 5,
   "metadata": {
    "collapsed": false
   },
   "outputs": [],
   "source": [
    "X=train_data.iloc[:,0:4]\n",
    "X=X.T.as_matrix()\n",
    "Y=train_data.iloc[:,4]\n",
    "Y=Y.T.as_matrix().reshape(1,-1)"
   ]
  },
  {
   "cell_type": "code",
   "execution_count": 6,
   "metadata": {
    "collapsed": false,
    "scrolled": false
   },
   "outputs": [],
   "source": [
    "X_mean=X.mean(axis=1).reshape(X.shape[0],1)"
   ]
  },
  {
   "cell_type": "code",
   "execution_count": 7,
   "metadata": {
    "collapsed": true
   },
   "outputs": [],
   "source": [
    "X_std=X.std(axis=1).reshape(X.shape[0],1)"
   ]
  },
  {
   "cell_type": "code",
   "execution_count": 8,
   "metadata": {
    "collapsed": false
   },
   "outputs": [],
   "source": [
    "X=((X-X_mean)/X_std)"
   ]
  },
  {
   "cell_type": "code",
   "execution_count": null,
   "metadata": {
    "collapsed": true
   },
   "outputs": [],
   "source": []
  },
  {
   "cell_type": "code",
   "execution_count": 9,
   "metadata": {
    "collapsed": false
   },
   "outputs": [],
   "source": [
    "X_test=test_data.iloc[:,0:4]\n",
    "X_test=X_test.T.as_matrix()\n",
    "Y_test=test_data.iloc[:,4]\n",
    "Y_test=Y_test.as_matrix().reshape(1,-1)"
   ]
  },
  {
   "cell_type": "markdown",
   "metadata": {},
   "source": [
    "# Net shape: data dimention of  each layer =[4,5,2,1]\n",
    " \n",
    "X.shape=(4,80)\n",
    "\n",
    "$ Z^{[1]}=W^{[1]}X+B^{[1]}   \\\\\n",
    "A^{[1]}=sigmoid(Z^{[1]})   \\\\\n",
    "Z^{[2]}=W^{[2]}X+B^{[2]}   \\\\\n",
    "A^{[2]}=sigmoid(Z^{[2]})  \n",
    "$\n",
    "\n",
    " "
   ]
  },
  {
   "cell_type": "markdown",
   "metadata": {},
   "source": [
    "## layer 0 =data input"
   ]
  },
  {
   "cell_type": "code",
   "execution_count": 10,
   "metadata": {
    "collapsed": false,
    "scrolled": true
   },
   "outputs": [
    {
     "data": {
      "text/plain": [
       "(4, 80)"
      ]
     },
     "execution_count": 10,
     "metadata": {},
     "output_type": "execute_result"
    }
   ],
   "source": [
    "X.shape"
   ]
  },
  {
   "cell_type": "code",
   "execution_count": 11,
   "metadata": {
    "collapsed": false,
    "scrolled": true
   },
   "outputs": [
    {
     "data": {
      "text/plain": [
       "(1, 80)"
      ]
     },
     "execution_count": 11,
     "metadata": {},
     "output_type": "execute_result"
    }
   ],
   "source": [
    "Y.shape"
   ]
  },
  {
   "cell_type": "code",
   "execution_count": 12,
   "metadata": {
    "collapsed": true
   },
   "outputs": [],
   "source": [
    "def cost(AL,Y):\n",
    "    m=Y.shape[1]\n",
    "    cost = (-1/m)*np.sum(Y*np.log(AL)+(1-Y)*np.log(1-AL))\n",
    "    cost = np.squeeze(cost)\n",
    "    assert(cost.shape == ())\n",
    "    return   cost\n",
    "\n"
   ]
  },
  {
   "cell_type": "code",
   "execution_count": 13,
   "metadata": {
    "collapsed": false
   },
   "outputs": [],
   "source": [
    "\n",
    "W1=10*0.001*np.random.rand(5,4)\n",
    "B1=np.zeros(shape=(W1.shape[0],1))\n",
    "W2=10*0.001*np.random.rand(2,5)\n",
    "B2=np.zeros(shape=(W2.shape[0],1))\n",
    "W3=10*0.001*np.random.rand(1,2)\n",
    "B3=np.zeros(shape=(W3.shape[0],1))\n",
    "\n",
    "\n",
    "\n",
    "\n"
   ]
  },
  {
   "cell_type": "code",
   "execution_count": 14,
   "metadata": {
    "collapsed": true
   },
   "outputs": [],
   "source": [
    "cost_list=[]\n",
    "iterations=[]\n",
    " "
   ]
  },
  {
   "cell_type": "code",
   "execution_count": 15,
   "metadata": {
    "collapsed": false,
    "scrolled": false
   },
   "outputs": [
    {
     "name": "stdout",
     "output_type": "stream",
     "text": [
      "cost =  0.693503641923\n",
      "cost =  0.688136652958  ; cost/cost_previous =   0.992261051507\n",
      "cost =  0.687864035777  ; cost/cost_previous =   0.999603832785\n",
      "cost =  0.013009627152  ; cost/cost_previous =   0.0189130794392\n",
      "cost =  0.00496936287873  ; cost/cost_previous =   0.381975810733\n",
      "cost =  0.00306601543007  ; cost/cost_previous =   0.616983606328\n",
      "cost =  0.00221612627155  ; cost/cost_previous =   0.722803365506\n",
      "cost =  0.00173493514503  ; cost/cost_previous =   0.782868362377\n",
      "cost =  0.00142535145489  ; cost/cost_previous =   0.821558926269\n",
      "cost =  0.00120948933885  ; cost/cost_previous =   0.848555164899\n",
      "cost =  0.00105039402157  ; cost/cost_previous =   0.868460752675\n",
      "cost =  0.000928279395356  ; cost/cost_previous =   0.883743982064\n",
      "cost =  0.000831596238959  ; cost/cost_previous =   0.895846921863\n",
      "cost =  0.0007531504569  ; cost/cost_previous =   0.905668426114\n",
      "cost =  0.000688227271804  ; cost/cost_previous =   0.91379785473\n",
      "cost =  0.000633607973484  ; cost/cost_previous =   0.920637701297\n",
      "cost =  0.000587020175874  ; cost/cost_previous =   0.926472204329\n",
      "cost =  0.000546813872522  ; cost/cost_previous =   0.931507799894\n",
      "cost =  0.000511762028119  ; cost/cost_previous =   0.935898033746\n",
      "cost =  0.000480933216586  ; cost/cost_previous =   0.939759478353\n",
      "cost =  0.000453607663035  ; cost/cost_previous =   0.943182228617\n",
      "cost =  0.000429220360892  ; cost/cost_previous =   0.946237014647\n",
      "cost =  0.000407321597632  ; cost/cost_previous =   0.948980138746\n",
      "cost =  0.000387548975293  ; cost/cost_previous =   0.951456975389\n",
      "cost =  0.000369607201537  ; cost/cost_previous =   0.953704499561\n",
      "cost =  0.000353253245  ; cost/cost_previous =   0.955753144232\n",
      "cost =  0.000338285264141  ; cost/cost_previous =   0.957628185809\n",
      "cost =  0.000324534236021  ; cost/cost_previous =   0.959350791841\n",
      "cost =  0.000311857546869  ; cost/cost_previous =   0.960938823256\n",
      "cost =  0.00030013402823  ; cost/cost_previous =   0.962407455724\n",
      "cost =  0.000289260072135  ; cost/cost_previous =   0.963769665976\n",
      "cost =  0.000279146561199  ; cost/cost_previous =   0.965036616143\n",
      "cost =  0.000269716420958  ; cost/cost_previous =   0.966217960199\n",
      "cost =  0.000260902652121  ; cost/cost_previous =   0.967322090342\n",
      "cost =  0.000252646736418  ; cost/cost_previous =   0.968356336605\n",
      "cost =  0.000244897335849  ; cost/cost_previous =   0.969327129734\n",
      "cost =  0.000237609224192  ; cost/cost_previous =   0.970240134989\n",
      "cost =  0.000230742403805  ; cost/cost_previous =   0.971100362746\n",
      "cost =  0.000224261371267  ; cost/cost_previous =   0.971912260464\n",
      "cost =  0.000218134503414  ; cost/cost_previous =   0.972679789576\n",
      "cost =  0.00021233354134  ; cost/cost_previous =   0.973406490112\n",
      "cost =  0.00020683315461  ; cost/cost_previous =   0.974095535282\n",
      "cost =  0.000201610571494  ; cost/cost_previous =   0.974749777782\n",
      "cost =  0.000196645263854  ; cost/cost_previous =   0.975371789268\n",
      "cost =  0.000191918677473  ; cost/cost_previous =   0.975963894129\n",
      "cost =  0.000187414000372  ; cost/cost_previous =   0.976528198507\n",
      "cost =  0.000183115963009  ; cost/cost_previous =   0.977066615327\n",
      "cost =  0.00017901066535  ; cost/cost_previous =   0.977580885952\n",
      "cost =  0.000175085426707  ; cost/cost_previous =   0.978072598997\n",
      "cost =  0.000171328654899  ; cost/cost_previous =   0.978543206716\n",
      "cost =  0.000167729731912  ; cost/cost_previous =   0.978994039326\n",
      "cost =  0.000164278913672  ; cost/cost_previous =   0.97942631756\n",
      "cost =  0.000160967241945  ; cost/cost_previous =   0.979841163707\n",
      "cost =  0.000157786466682  ; cost/cost_previous =   0.980239611335\n",
      "cost =  0.000154728977394  ; cost/cost_previous =   0.980622613889\n",
      "cost =  0.000151787742357  ; cost/cost_previous =   0.980991052311\n",
      "cost =  0.000148956254619  ; cost/cost_previous =   0.981345741797\n",
      "cost =  0.000146228483944  ; cost/cost_previous =   0.981687437823\n",
      "cost =  0.000143598833942  ; cost/cost_previous =   0.982016841511\n",
      "cost =  0.000141062103738  ; cost/cost_previous =   0.982334604434\n",
      "cost =  0.000138613453641  ; cost/cost_previous =   0.982641332917\n",
      "cost =  0.000136248374326  ; cost/cost_previous =   0.982937591893\n",
      "cost =  0.000133962659115  ; cost/cost_previous =   0.983223908382\n",
      "cost =  0.000131752379009  ; cost/cost_previous =   0.983500774615\n",
      "cost =  0.000129613860146  ; cost/cost_previous =   0.98376865086\n",
      "cost =  0.00012754366342  ; cost/cost_previous =   0.984027967973\n",
      "cost =  0.000125538566031  ; cost/cost_previous =   0.984279129712\n",
      "cost =  0.000123595544738  ; cost/cost_previous =   0.984522514832\n",
      "cost =  0.000121711760646  ; cost/cost_previous =   0.984758478993\n",
      "cost =  0.000119884545373  ; cost/cost_previous =   0.984987356496\n",
      "cost =  0.000118111388432  ; cost/cost_previous =   0.985209461855\n",
      "cost =  0.000116389925723  ; cost/cost_previous =   0.985425091249\n",
      "cost =  0.000114717929019  ; cost/cost_previous =   0.985634523833\n",
      "cost =  0.00011309329634  ; cost/cost_previous =   0.985838022942\n",
      "cost =  0.000111514043139  ; cost/cost_previous =   0.986035837205\n",
      "cost =  0.000109978294212  ; cost/cost_previous =   0.986228201546\n",
      "cost =  0.000108484276272  ; cost/cost_previous =   0.986415338124\n",
      "cost =  0.000107030311114  ; cost/cost_previous =   0.986597457186\n",
      "cost =  0.000105614809333  ; cost/cost_previous =   0.986774757852\n",
      "cost =  0.000104236264519  ; cost/cost_previous =   0.986947428844\n",
      "cost =  0.000102893247916  ; cost/cost_previous =   0.987115649158\n",
      "cost =  0.00010158440348  ; cost/cost_previous =   0.987279588678\n",
      "cost =  0.000100308443311  ; cost/cost_previous =   0.987439408751\n",
      "cost =  9.90641434246e-05  ; cost/cost_previous =   0.987595262718\n",
      "cost =  9.78503398378e-05  ; cost/cost_previous =   0.987747296399\n",
      "cost =  9.66659249356e-05  ; cost/cost_previous =   0.987895648558\n",
      "cost =  9.55098441e-05  ; cost/cost_previous =   0.988040451313\n",
      "cost =  9.43810925774e-05  ; cost/cost_previous =   0.988181830541\n",
      "cost =  9.32787125661e-05  ; cost/cost_previous =   0.988319906231\n",
      "cost =  9.22017905053e-05  ; cost/cost_previous =   0.988454792833\n",
      "cost =  9.11494545499e-05  ; cost/cost_previous =   0.98858659957\n",
      "cost =  9.01208722164e-05  ; cost/cost_previous =   0.988715430734\n",
      "cost =  8.91152481863e-05  ; cost/cost_previous =   0.988841385959\n",
      "cost =  8.81318222548e-05  ; cost/cost_previous =   0.988964560482\n",
      "cost =  8.71698674144e-05  ; cost/cost_previous =   0.989085045381\n",
      "cost =  8.6228688062e-05  ; cost/cost_previous =   0.989202927797\n",
      "cost =  8.53076183216e-05  ; cost/cost_previous =   0.98931829115\n",
      "cost =  8.44060204729e-05  ; cost/cost_previous =   0.98943121533\n",
      "cost =  8.35232834787e-05  ; cost/cost_previous =   0.989541776887\n",
      "cost =  8.26588216038e-05  ; cost/cost_previous =   0.989650049198\n"
     ]
    }
   ],
   "source": [
    "iteration_number=1000000\n",
    "for i in range(iteration_number):\n",
    "\n",
    "    # forward\n",
    "\n",
    "    learning_rate=0.0075*5\n",
    "\n",
    "    Z1=W1.dot(X)+B1   \n",
    "    A1=sigmoid(Z1)\n",
    "    A1=np.array(A1,dtype=np.float128)\n",
    "\n",
    "    Z2=W2.dot(A1)+B2\n",
    "    A2=sigmoid(Z2)\n",
    "    A2=np.array(A2,dtype=np.float128)\n",
    "\n",
    "    Z3=W3.dot(A2)+B3\n",
    "    A3=sigmoid(Z3)\n",
    "    A3=np.array(A3,dtype=np.float128)\n",
    "\n",
    "\n",
    "    dA3 = - (np.divide(Y, A3) - np.divide(1 - Y, 1 - A3))\n",
    "    dA3=np.array(dA3,dtype=np.float128)\n",
    "\n",
    "    if i %(iteration_number/100)==0:\n",
    "\n",
    "        cost_list.append(cost(A3,Y))\n",
    "        iterations.append(i)\n",
    "        try:\n",
    "            print(\"cost = \",cost_list[-1],\" ; cost/cost_previous =  \",(cost_list[-1]/cost_list[-2]))\n",
    "        except:\n",
    "            print(\"cost = \",cost_list[-1])\n",
    "\n",
    "        \n",
    "        \n",
    "        \n",
    "    # backforward\n",
    "\n",
    "\n",
    "\n",
    "\n",
    "    m=Y.shape[1]\n",
    "    \n",
    "\n",
    "    dW3=(1/m)*(dA3*sigmoid(Z3,deri=True)).dot(A2.T )\n",
    "\n",
    "    dZ3=dA3*sigmoid(Z3,deri=True)\n",
    "\n",
    "    dB3=(1/m)*np.sum(dZ3,axis=1,keepdims=True)\n",
    "\n",
    "\n",
    "    dA2=W3.T.dot(dZ3)\n",
    "\n",
    "    dZ2=dA2*sigmoid(Z2,deri=True)\n",
    "\n",
    "    dW2=(1/m)*dZ2.dot(A1.T)\n",
    "\n",
    "    dB2=(1/m)*np.sum(dZ2,axis=1,keepdims=True)\n",
    "\n",
    "    dA1=W2.T.dot(dZ2)\n",
    "    dZ1=dA1*sigmoid(Z1,deri=True)\n",
    "\n",
    "    A0=X\n",
    "\n",
    "    dW1=(1/m)*dZ1.dot(A0.T)\n",
    "\n",
    "    dB1=(1/m)*np.sum(dZ1,axis=1,keepdims=True)\n",
    "\n",
    "\n",
    "\n",
    "    W1+=-learning_rate* dW1\n",
    "    B1+=-learning_rate* dB1\n",
    "    W2+=-learning_rate* dW2\n",
    "    B2+=-learning_rate* dB2\n",
    "    W3+=-learning_rate* dW3\n",
    "    B3+=-learning_rate* dB3\n"
   ]
  },
  {
   "cell_type": "code",
   "execution_count": 16,
   "metadata": {
    "collapsed": false
   },
   "outputs": [
    {
     "data": {
      "text/plain": [
       "[0.69350364192273245581,\n",
       " 0.68813665295806612207,\n",
       " 0.6878640357768122408,\n",
       " 0.013009627152014115144,\n",
       " 0.0049693628787263635939,\n",
       " 0.0030660154300674242534,\n",
       " 0.0022161262715456126258,\n",
       " 0.0017349351450256798949,\n",
       " 0.0014253514548928817786,\n",
       " 0.0012094893388451966654,\n",
       " 0.0010503940215662894001,\n",
       " 0.0009282793953556697462,\n",
       " 0.0008315962389586164995,\n",
       " 0.00075315045690031272444,\n",
       " 0.00068822727180437421717,\n",
       " 0.00063360797348418096186,\n",
       " 0.0005870201758744051242,\n",
       " 0.00054681387252193702683,\n",
       " 0.00051176202811852023378,\n",
       " 0.00048093321658571744609,\n",
       " 0.0004536076630353718159,\n",
       " 0.00042922036089175311043,\n",
       " 0.00040732159763186590879,\n",
       " 0.0003875489752932270746,\n",
       " 0.00036960720153747570104,\n",
       " 0.00035325324500017246703,\n",
       " 0.00033828526414073471007,\n",
       " 0.00032453423602143634841,\n",
       " 0.00031185754686866732107,\n",
       " 0.00030013402823006035738,\n",
       " 0.00028926007213542502548,\n",
       " 0.00027914656119890457331,\n",
       " 0.00026971642095810714153,\n",
       " 0.00026090265212073664108,\n",
       " 0.00025264673641820814814,\n",
       " 0.00024489733584893766622,\n",
       " 0.00023760922419244310953,\n",
       " 0.00023074240380496935098,\n",
       " 0.00022426137126688532181,\n",
       " 0.00021813450341381557614,\n",
       " 0.00021233354134045320944,\n",
       " 0.00020683315461035110892,\n",
       " 0.00020161057149443808243,\n",
       " 0.00019664526385387999011,\n",
       " 0.0001919186774728172578,\n",
       " 0.00018741400037244034866,\n",
       " 0.0001831159630088453638,\n",
       " 0.0001790106653501819098,\n",
       " 0.00017508542670725251812,\n",
       " 0.00017132865489937408453,\n",
       " 0.00016772973191219551265,\n",
       " 0.0001642789136721529434,\n",
       " 0.0001609672419450634583,\n",
       " 0.00015778646668184741965,\n",
       " 0.00015472897739390369313,\n",
       " 0.0001517877423566672246,\n",
       " 0.00014895625461876062884,\n",
       " 0.00014622848394441172353,\n",
       " 0.00014359883394205633133,\n",
       " 0.00014106210373771935571,\n",
       " 0.00013861345364084075825,\n",
       " 0.00013624837432563978519,\n",
       " 0.00013396265911509323432,\n",
       " 0.00013175237900920137463,\n",
       " 0.00012961386014551281147,\n",
       " 0.00012754366342016036602,\n",
       " 0.00012553856603142992628,\n",
       " 0.00012359554473760425415,\n",
       " 0.00012171176064615615148,\n",
       " 0.00011988454537328775557,\n",
       " 0.00011811138843199798289,\n",
       " 0.00011638992572320349093,\n",
       " 0.00011471792901909698389,\n",
       " 0.00011309329634023104787,\n",
       " 0.0001115140431390726975,\n",
       " 0.00010997829421215238245,\n",
       " 0.00010848427627162191586,\n",
       " 0.00010703031111423321168,\n",
       " 0.000105614809332543976,\n",
       " 0.00010423626451865254777,\n",
       " 0.00010289324791616491858,\n",
       " 0.00010158440348043513333,\n",
       " 0.00010030844331108479442,\n",
       " 9.9064143424603678228e-05,\n",
       " 9.7850339837783750009e-05,\n",
       " 9.6665924935642265467e-05,\n",
       " 9.5509844100048599148e-05,\n",
       " 9.438109257743678838e-05,\n",
       " 9.3278712566092689032e-05,\n",
       " 9.2201790505250670434e-05,\n",
       " 9.1149454549873581865e-05,\n",
       " 9.012087221642103231e-05,\n",
       " 8.9115248186317289956e-05,\n",
       " 8.8131822254841566664e-05,\n",
       " 8.7169867414399919388e-05,\n",
       " 8.622868806199139508e-05,\n",
       " 8.5307618321578723376e-05,\n",
       " 8.4406020472857522948e-05,\n",
       " 8.3523283478662239042e-05,\n",
       " 8.265882160381466842e-05]"
      ]
     },
     "execution_count": 16,
     "metadata": {},
     "output_type": "execute_result"
    }
   ],
   "source": [
    "cost_list"
   ]
  },
  {
   "cell_type": "code",
   "execution_count": 28,
   "metadata": {
    "collapsed": false
   },
   "outputs": [
    {
     "data": {
      "image/png": "[encoded data removed]",
      "text/plain": [
       "<matplotlib.figure.Figure at 0x7f8ee3b24400>"
      ]
     },
     "metadata": {},
     "output_type": "display_data"
    }
   ],
   "source": [
    "plt.plot(cost_list)\n",
    "plt.xlabel('number of iteration * 100 ')\n",
    "plt.ylabel('total cost')\n",
    "plt.show()"
   ]
  },
  {
   "cell_type": "code",
   "execution_count": 18,
   "metadata": {
    "collapsed": false
   },
   "outputs": [
    {
     "data": {
      "text/plain": [
       "(1, 20)"
      ]
     },
     "execution_count": 18,
     "metadata": {},
     "output_type": "execute_result"
    }
   ],
   "source": [
    "Y_test.shape"
   ]
  },
  {
   "cell_type": "code",
   "execution_count": 19,
   "metadata": {
    "collapsed": false
   },
   "outputs": [
    {
     "data": {
      "text/plain": [
       "[0.69350364192273245581,\n",
       " 0.68813665295806612207,\n",
       " 0.6878640357768122408,\n",
       " 0.013009627152014115144,\n",
       " 0.0049693628787263635939,\n",
       " 0.0030660154300674242534,\n",
       " 0.0022161262715456126258,\n",
       " 0.0017349351450256798949,\n",
       " 0.0014253514548928817786,\n",
       " 0.0012094893388451966654,\n",
       " 0.0010503940215662894001,\n",
       " 0.0009282793953556697462,\n",
       " 0.0008315962389586164995,\n",
       " 0.00075315045690031272444,\n",
       " 0.00068822727180437421717,\n",
       " 0.00063360797348418096186,\n",
       " 0.0005870201758744051242,\n",
       " 0.00054681387252193702683,\n",
       " 0.00051176202811852023378,\n",
       " 0.00048093321658571744609,\n",
       " 0.0004536076630353718159,\n",
       " 0.00042922036089175311043,\n",
       " 0.00040732159763186590879,\n",
       " 0.0003875489752932270746,\n",
       " 0.00036960720153747570104,\n",
       " 0.00035325324500017246703,\n",
       " 0.00033828526414073471007,\n",
       " 0.00032453423602143634841,\n",
       " 0.00031185754686866732107,\n",
       " 0.00030013402823006035738,\n",
       " 0.00028926007213542502548,\n",
       " 0.00027914656119890457331,\n",
       " 0.00026971642095810714153,\n",
       " 0.00026090265212073664108,\n",
       " 0.00025264673641820814814,\n",
       " 0.00024489733584893766622,\n",
       " 0.00023760922419244310953,\n",
       " 0.00023074240380496935098,\n",
       " 0.00022426137126688532181,\n",
       " 0.00021813450341381557614,\n",
       " 0.00021233354134045320944,\n",
       " 0.00020683315461035110892,\n",
       " 0.00020161057149443808243,\n",
       " 0.00019664526385387999011,\n",
       " 0.0001919186774728172578,\n",
       " 0.00018741400037244034866,\n",
       " 0.0001831159630088453638,\n",
       " 0.0001790106653501819098,\n",
       " 0.00017508542670725251812,\n",
       " 0.00017132865489937408453,\n",
       " 0.00016772973191219551265,\n",
       " 0.0001642789136721529434,\n",
       " 0.0001609672419450634583,\n",
       " 0.00015778646668184741965,\n",
       " 0.00015472897739390369313,\n",
       " 0.0001517877423566672246,\n",
       " 0.00014895625461876062884,\n",
       " 0.00014622848394441172353,\n",
       " 0.00014359883394205633133,\n",
       " 0.00014106210373771935571,\n",
       " 0.00013861345364084075825,\n",
       " 0.00013624837432563978519,\n",
       " 0.00013396265911509323432,\n",
       " 0.00013175237900920137463,\n",
       " 0.00012961386014551281147,\n",
       " 0.00012754366342016036602,\n",
       " 0.00012553856603142992628,\n",
       " 0.00012359554473760425415,\n",
       " 0.00012171176064615615148,\n",
       " 0.00011988454537328775557,\n",
       " 0.00011811138843199798289,\n",
       " 0.00011638992572320349093,\n",
       " 0.00011471792901909698389,\n",
       " 0.00011309329634023104787,\n",
       " 0.0001115140431390726975,\n",
       " 0.00010997829421215238245,\n",
       " 0.00010848427627162191586,\n",
       " 0.00010703031111423321168,\n",
       " 0.000105614809332543976,\n",
       " 0.00010423626451865254777,\n",
       " 0.00010289324791616491858,\n",
       " 0.00010158440348043513333,\n",
       " 0.00010030844331108479442,\n",
       " 9.9064143424603678228e-05,\n",
       " 9.7850339837783750009e-05,\n",
       " 9.6665924935642265467e-05,\n",
       " 9.5509844100048599148e-05,\n",
       " 9.438109257743678838e-05,\n",
       " 9.3278712566092689032e-05,\n",
       " 9.2201790505250670434e-05,\n",
       " 9.1149454549873581865e-05,\n",
       " 9.012087221642103231e-05,\n",
       " 8.9115248186317289956e-05,\n",
       " 8.8131822254841566664e-05,\n",
       " 8.7169867414399919388e-05,\n",
       " 8.622868806199139508e-05,\n",
       " 8.5307618321578723376e-05,\n",
       " 8.4406020472857522948e-05,\n",
       " 8.3523283478662239042e-05,\n",
       " 8.265882160381466842e-05]"
      ]
     },
     "execution_count": 19,
     "metadata": {},
     "output_type": "execute_result"
    }
   ],
   "source": [
    "cost_list"
   ]
  },
  {
   "cell_type": "code",
   "execution_count": 20,
   "metadata": {
    "collapsed": true
   },
   "outputs": [],
   "source": [
    "X_test_mean=X_test.mean(axis=1).reshape(X_test.shape[0],1)\n",
    "X_test_std=X_test.std(axis=1).reshape(X_test.shape[0],1)\n",
    "\n",
    "X_test=(X_test-X_test_mean)/X_test_std"
   ]
  },
  {
   "cell_type": "code",
   "execution_count": 21,
   "metadata": {
    "collapsed": false
   },
   "outputs": [
    {
     "data": {
      "text/plain": [
       "0.00040781307650788346279"
      ]
     },
     "execution_count": 21,
     "metadata": {},
     "output_type": "execute_result"
    }
   ],
   "source": [
    "Z1=W1.dot(X_test)+B1   \n",
    "A1=sigmoid(Z1)\n",
    "\n",
    "Z2=W2.dot(A1)+B2\n",
    "A2=sigmoid(Z2)\n",
    "\n",
    "Z3=W3.dot(A2)+B3\n",
    "A3=sigmoid(Z3)\n",
    "\n",
    "cost(A3,Y_test)"
   ]
  },
  {
   "cell_type": "code",
   "execution_count": null,
   "metadata": {
    "collapsed": true
   },
   "outputs": [],
   "source": []
  },
  {
   "cell_type": "code",
   "execution_count": 22,
   "metadata": {
    "collapsed": false,
    "scrolled": false
   },
   "outputs": [
    {
     "data": {
      "text/plain": [
       "array([ 0.9999,  0.9997,  0.0,  0.9999,  0.9998,  0.0,  0.0,  0.9999,\n",
       "        0.9997,  0.9999,  0.0,  0.9999,  0.9943,  0.9999,  0.9999,  0.9998,\n",
       "        0.0,  0.9999,  0.9999,  0.0], dtype=float128)"
      ]
     },
     "execution_count": 22,
     "metadata": {},
     "output_type": "execute_result"
    }
   ],
   "source": [
    "A3[0].round(4)"
   ]
  },
  {
   "cell_type": "code",
   "execution_count": 23,
   "metadata": {
    "collapsed": true
   },
   "outputs": [],
   "source": [
    "Y_estimate=A3[0].round()"
   ]
  },
  {
   "cell_type": "code",
   "execution_count": 24,
   "metadata": {
    "collapsed": false,
    "scrolled": true
   },
   "outputs": [],
   "source": [
    "Y_real=Y_test[0]"
   ]
  },
  {
   "cell_type": "code",
   "execution_count": 25,
   "metadata": {
    "collapsed": false
   },
   "outputs": [
    {
     "data": {
      "text/plain": [
       "1.0"
      ]
     },
     "execution_count": 25,
     "metadata": {},
     "output_type": "execute_result"
    }
   ],
   "source": [
    "recall_score(Y_real,Y_estimate)"
   ]
  },
  {
   "cell_type": "code",
   "execution_count": 26,
   "metadata": {
    "collapsed": false
   },
   "outputs": [
    {
     "data": {
      "text/plain": [
       "1.0"
      ]
     },
     "execution_count": 26,
     "metadata": {},
     "output_type": "execute_result"
    }
   ],
   "source": [
    "precision_score(Y_real,Y_estimate)"
   ]
  },
  {
   "cell_type": "code",
   "execution_count": null,
   "metadata": {
    "collapsed": true
   },
   "outputs": [],
   "source": []
  }
 ],
 "metadata": {
  "kernelspec": {
   "display_name": "Python 3",
   "language": "python",
   "name": "python3"
  },
  "language_info": {
   "codemirror_mode": {
    "name": "ipython",
    "version": 3
   },
   "file_extension": ".py",
   "mimetype": "text/x-python",
   "name": "python",
   "nbconvert_exporter": "python",
   "pygments_lexer": "ipython3",
   "version": "3.5.4"
  }
 },
 "nbformat": 4,
 "nbformat_minor": 2
}
