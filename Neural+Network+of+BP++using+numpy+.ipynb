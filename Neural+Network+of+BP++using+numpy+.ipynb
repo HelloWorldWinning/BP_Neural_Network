{
 "cells": [
  {
   "cell_type": "code",
   "execution_count": 1,
   "metadata": {
    "collapsed": false
   },
   "outputs": [],
   "source": [
    "import numpy as np\n",
    "import pandas as pd\n",
    "from sklearn.datasets import load_iris\n",
    "import matplotlib.pyplot as plt"
   ]
  },
  {
   "cell_type": "code",
   "execution_count": 2,
   "metadata": {
    "collapsed": false
   },
   "outputs": [],
   "source": [
    "\n",
    "data_raw=load_iris()\n",
    "\n",
    "data_x=data_raw['data'][:100]\n",
    "data_y=data_raw['target'][:100]\n",
    "\n",
    "data_all=pd.DataFrame(data_x)\n",
    "data_all['target']=data_y\n",
    "\n",
    "test_data=data_all.sample(frac=0.2)\n",
    "\n",
    "train_data=data_all.drop(test_data.index)"
   ]
  },
  {
   "cell_type": "markdown",
   "metadata": {},
   "source": [
    "$${\\displaystyle f(x)={\\frac {1}{1+e^{-x}}}={\\frac {e^{x}}{1+e^{x}}}}$$\n",
    "\n",
    "$${\\displaystyle {\\frac {d}{dx}}f(x)={\\frac {e^{x}}{(1+e^{x})^{2}}}=f(x)(1-f(x))}\n",
    "$$"
   ]
  },
  {
   "cell_type": "code",
   "execution_count": 3,
   "metadata": {
    "collapsed": true
   },
   "outputs": [],
   "source": [
    "def sigmoid(x,deri=False):\n",
    "    x=np.array(x,dtype=np.float128)\n",
    "    if deri==False:\n",
    "        \n",
    "        return np.array(1/(1+np.exp(-x)),dtype=np.float128)\n",
    "    elif deri==True:\n",
    "        return np.array(x*(1-x),dtype=np.float128)\n",
    "    else:\n",
    "        print('input error')"
   ]
  },
  {
   "cell_type": "code",
   "execution_count": 4,
   "metadata": {
    "collapsed": false
   },
   "outputs": [],
   "source": [
    "X=train_data.iloc[:,0:4]\n",
    "X=X.T.as_matrix()\n",
    "Y=train_data.iloc[:,4]\n",
    "Y=Y.T.as_matrix().reshape(1,-1)"
   ]
  },
  {
   "cell_type": "code",
   "execution_count": 5,
   "metadata": {
    "collapsed": false
   },
   "outputs": [],
   "source": [
    "X_test=test_data.iloc[:,0:4]\n",
    "X_test=X_test.T.as_matrix()\n",
    "Y_test=test_data.iloc[:,4]\n",
    "Y_test=Y_test.as_matrix().reshape(1,-1)"
   ]
  },
  {
   "cell_type": "markdown",
   "metadata": {},
   "source": [
    "# Net shape: data dimention of  each layer =[4,5,2,1]\n",
    " \n",
    "X.shape=(4,80)\n",
    "\n",
    "$ Z^{[1]}=W^{[1]}X+B^{[1]}   \\\\\n",
    "A^{[1]}=sigmoid(Z^{[1]})   \\\\\n",
    "Z^{[2]}=W^{[2]}X+B^{[2]}   \\\\\n",
    "A^{[2]}=sigmoid(Z^{[2]})  \n",
    "$\n",
    "\n",
    " "
   ]
  },
  {
   "cell_type": "markdown",
   "metadata": {},
   "source": [
    "## layer 0 =data input"
   ]
  },
  {
   "cell_type": "code",
   "execution_count": 6,
   "metadata": {
    "collapsed": false,
    "scrolled": true
   },
   "outputs": [
    {
     "data": {
      "text/plain": [
       "(4, 80)"
      ]
     },
     "execution_count": 6,
     "metadata": {},
     "output_type": "execute_result"
    }
   ],
   "source": [
    "X.shape"
   ]
  },
  {
   "cell_type": "code",
   "execution_count": 7,
   "metadata": {
    "collapsed": false,
    "scrolled": true
   },
   "outputs": [
    {
     "data": {
      "text/plain": [
       "(1, 80)"
      ]
     },
     "execution_count": 7,
     "metadata": {},
     "output_type": "execute_result"
    }
   ],
   "source": [
    "Y.shape"
   ]
  },
  {
   "cell_type": "code",
   "execution_count": 8,
   "metadata": {
    "collapsed": true
   },
   "outputs": [],
   "source": [
    "def cost(AL,Y):\n",
    "    m=Y.shape[1]\n",
    "    cost = (-1/m)*np.sum(Y*np.log(AL)+(1-Y)*np.log(1-AL))\n",
    "    cost = np.squeeze(cost)\n",
    "    assert(cost.shape == ())\n",
    "    return   cost\n",
    "\n"
   ]
  },
  {
   "cell_type": "code",
   "execution_count": 9,
   "metadata": {
    "collapsed": false
   },
   "outputs": [],
   "source": [
    "\n",
    "W1=10*0.001*np.random.rand(5,4)\n",
    "B1=np.zeros(shape=(W1.shape[0],1))\n",
    "W2=10*0.001*np.random.rand(2,5)\n",
    "B2=np.zeros(shape=(W2.shape[0],1))\n",
    "W3=10*0.001*np.random.rand(1,2)\n",
    "B3=np.zeros(shape=(W3.shape[0],1))\n",
    "\n",
    "\n",
    "\n",
    "\n"
   ]
  },
  {
   "cell_type": "code",
   "execution_count": 10,
   "metadata": {
    "collapsed": true
   },
   "outputs": [],
   "source": [
    "cost_list=[]\n",
    "iterations=[]\n",
    " "
   ]
  },
  {
   "cell_type": "code",
   "execution_count": 11,
   "metadata": {
    "collapsed": false,
    "scrolled": false
   },
   "outputs": [
    {
     "name": "stdout",
     "output_type": "stream",
     "text": [
      "0.693150950185\n",
      "0.999995084361      0.693147542906\n",
      "0.999999625703      0.693147283463\n",
      "0.999999898489      0.6931472131\n",
      "0.99999995889      0.693147184605\n",
      "0.999999979676      0.693147170518\n",
      "0.999999988716      0.693147162696\n",
      "0.99999999326      0.693147158025\n",
      "0.999999995777      0.693147155098\n",
      "0.999999997266      0.693147153203\n",
      "0.999999998188      0.693147151947\n",
      "0.999999998778      0.6931471511\n",
      "0.999999999164      0.693147150521\n",
      "0.99999999942      0.693147150119\n",
      "0.999999999592      0.693147149836\n",
      "0.999999999708      0.693147149634\n",
      "0.999999999787      0.693147149487\n",
      "0.999999999841      0.693147149377\n",
      "0.999999999878      0.693147149292\n",
      "0.999999999903      0.693147149225\n",
      "0.99999999992      0.69314714917\n",
      "0.999999999932      0.693147149123\n",
      "0.99999999994      0.693147149082\n",
      "0.999999999946      0.693147149044\n",
      "0.99999999995      0.693147149009\n",
      "0.999999999952      0.693147148976\n",
      "0.999999999954      0.693147148944\n",
      "0.999999999955      0.693147148913\n"
     ]
    },
    {
     "ename": "KeyboardInterrupt",
     "evalue": "",
     "output_type": "error",
     "traceback": [
      "\u001b[0;31m---------------------------------------------------------------------------\u001b[0m",
      "\u001b[0;31mKeyboardInterrupt\u001b[0m                         Traceback (most recent call last)",
      "\u001b[0;32m<ipython-input-11-70d86b9d421a>\u001b[0m in \u001b[0;36m<module>\u001b[0;34m()\u001b[0m\n\u001b[1;32m     58\u001b[0m \u001b[0;34m\u001b[0m\u001b[0m\n\u001b[1;32m     59\u001b[0m     \u001b[0mdA1\u001b[0m\u001b[0;34m=\u001b[0m\u001b[0mW2\u001b[0m\u001b[0;34m.\u001b[0m\u001b[0mT\u001b[0m\u001b[0;34m.\u001b[0m\u001b[0mdot\u001b[0m\u001b[0;34m(\u001b[0m\u001b[0mdZ2\u001b[0m\u001b[0;34m)\u001b[0m\u001b[0;34m\u001b[0m\u001b[0m\n\u001b[0;32m---> 60\u001b[0;31m     \u001b[0mdZ1\u001b[0m\u001b[0;34m=\u001b[0m\u001b[0mdA1\u001b[0m\u001b[0;34m*\u001b[0m\u001b[0msigmoid\u001b[0m\u001b[0;34m(\u001b[0m\u001b[0mZ1\u001b[0m\u001b[0;34m,\u001b[0m\u001b[0mderi\u001b[0m\u001b[0;34m=\u001b[0m\u001b[0;32mTrue\u001b[0m\u001b[0;34m)\u001b[0m\u001b[0;34m\u001b[0m\u001b[0m\n\u001b[0m\u001b[1;32m     61\u001b[0m \u001b[0;34m\u001b[0m\u001b[0m\n\u001b[1;32m     62\u001b[0m     \u001b[0mA0\u001b[0m\u001b[0;34m=\u001b[0m\u001b[0mX\u001b[0m\u001b[0;34m\u001b[0m\u001b[0m\n",
      "\u001b[0;32m<ipython-input-3-55045cefeb08>\u001b[0m in \u001b[0;36msigmoid\u001b[0;34m(x, deri)\u001b[0m\n\u001b[1;32m      5\u001b[0m         \u001b[0;32mreturn\u001b[0m \u001b[0mnp\u001b[0m\u001b[0;34m.\u001b[0m\u001b[0marray\u001b[0m\u001b[0;34m(\u001b[0m\u001b[0;36m1\u001b[0m\u001b[0;34m/\u001b[0m\u001b[0;34m(\u001b[0m\u001b[0;36m1\u001b[0m\u001b[0;34m+\u001b[0m\u001b[0mnp\u001b[0m\u001b[0;34m.\u001b[0m\u001b[0mexp\u001b[0m\u001b[0;34m(\u001b[0m\u001b[0;34m-\u001b[0m\u001b[0mx\u001b[0m\u001b[0;34m)\u001b[0m\u001b[0;34m)\u001b[0m\u001b[0;34m,\u001b[0m\u001b[0mdtype\u001b[0m\u001b[0;34m=\u001b[0m\u001b[0mnp\u001b[0m\u001b[0;34m.\u001b[0m\u001b[0mfloat128\u001b[0m\u001b[0;34m)\u001b[0m\u001b[0;34m\u001b[0m\u001b[0m\n\u001b[1;32m      6\u001b[0m     \u001b[0;32melif\u001b[0m \u001b[0mderi\u001b[0m\u001b[0;34m==\u001b[0m\u001b[0;32mTrue\u001b[0m\u001b[0;34m:\u001b[0m\u001b[0;34m\u001b[0m\u001b[0m\n\u001b[0;32m----> 7\u001b[0;31m         \u001b[0;32mreturn\u001b[0m \u001b[0mnp\u001b[0m\u001b[0;34m.\u001b[0m\u001b[0marray\u001b[0m\u001b[0;34m(\u001b[0m\u001b[0mx\u001b[0m\u001b[0;34m*\u001b[0m\u001b[0;34m(\u001b[0m\u001b[0;36m1\u001b[0m\u001b[0;34m-\u001b[0m\u001b[0mx\u001b[0m\u001b[0;34m)\u001b[0m\u001b[0;34m,\u001b[0m\u001b[0mdtype\u001b[0m\u001b[0;34m=\u001b[0m\u001b[0mnp\u001b[0m\u001b[0;34m.\u001b[0m\u001b[0mfloat128\u001b[0m\u001b[0;34m)\u001b[0m\u001b[0;34m\u001b[0m\u001b[0m\n\u001b[0m\u001b[1;32m      8\u001b[0m     \u001b[0;32melse\u001b[0m\u001b[0;34m:\u001b[0m\u001b[0;34m\u001b[0m\u001b[0m\n\u001b[1;32m      9\u001b[0m         \u001b[0mprint\u001b[0m\u001b[0;34m(\u001b[0m\u001b[0;34m'input error'\u001b[0m\u001b[0;34m)\u001b[0m\u001b[0;34m\u001b[0m\u001b[0m\n",
      "\u001b[0;31mKeyboardInterrupt\u001b[0m: "
     ]
    }
   ],
   "source": [
    "iteration_number=10000000\n",
    "for i in range(iteration_number):\n",
    "\n",
    "    # forward\n",
    "\n",
    "    learning_rate=0.0025*1\n",
    "\n",
    "    Z1=W1.dot(X)+B1   \n",
    "    A1=sigmoid(Z1)\n",
    "    A1=np.array(A1,dtype=np.float128)\n",
    "\n",
    "    Z2=W2.dot(A1)+B2\n",
    "    A2=sigmoid(Z2)\n",
    "    A2=np.array(A2,dtype=np.float128)\n",
    "\n",
    "    Z3=W3.dot(A2)+B3\n",
    "    A3=sigmoid(Z3)\n",
    "    A3=np.array(A3,dtype=np.float128)\n",
    "\n",
    "\n",
    "    dA3 = - (np.divide(Y, A3) - np.divide(1 - Y, 1 - A3))\n",
    "    dA3=np.array(dA3,dtype=np.float128)\n",
    "\n",
    "    if i %(iteration_number/100)==0:\n",
    "\n",
    "        cost_list.append(cost(A3,Y))\n",
    "        iterations.append(i)\n",
    "        try:\n",
    "            print(cost_list[-1]/cost_list[-2],'    ',cost_list[-1])\n",
    "        except:\n",
    "            print(cost_list[-1])\n",
    "\n",
    "        \n",
    "        \n",
    "        \n",
    "    # backforward\n",
    "\n",
    "\n",
    "\n",
    "\n",
    "    m=Y.shape[1]\n",
    "    \n",
    "\n",
    "    dW3=(1/m)*(dA3*sigmoid(Z3,deri=True)).dot(A2.T )\n",
    "\n",
    "    dZ3=dA3*sigmoid(Z3,deri=True)\n",
    "\n",
    "    dB3=(1/m)*np.sum(dZ3,axis=1,keepdims=True)\n",
    "\n",
    "\n",
    "    dA2=W3.T.dot(dZ3)\n",
    "\n",
    "    dZ2=dA2*sigmoid(Z2,deri=True)\n",
    "\n",
    "    dW2=(1/m)*dZ2.dot(A1.T)\n",
    "\n",
    "    dB2=(1/m)*np.sum(dZ2,axis=1,keepdims=True)\n",
    "\n",
    "    dA1=W2.T.dot(dZ2)\n",
    "    dZ1=dA1*sigmoid(Z1,deri=True)\n",
    "\n",
    "    A0=X\n",
    "\n",
    "    dW1=(1/m)*dZ1.dot(A0.T)\n",
    "\n",
    "    dB1=(1/m)*np.sum(dZ1,axis=1,keepdims=True)\n",
    "\n",
    "\n",
    "\n",
    "    W1+=-learning_rate* dW1\n",
    "    B1+=-learning_rate* dB1\n",
    "    W2+=-learning_rate* dW2\n",
    "    B2+=-learning_rate* dB2\n",
    "    W3+=-learning_rate* dW3\n",
    "    B3+=-learning_rate* dB3\n"
   ]
  },
  {
   "cell_type": "code",
   "execution_count": 12,
   "metadata": {
    "collapsed": false
   },
   "outputs": [
    {
     "data": {
      "text/plain": [
       "[0.69315095018528356319,\n",
       " 0.69314754290562019832,\n",
       " 0.69314728346257640043,\n",
       " 0.69314721310024452079,\n",
       " 0.69314718460516097875,\n",
       " 0.69314717051781129072,\n",
       " 0.69314716269605767721,\n",
       " 0.69314715802458861873,\n",
       " 0.69314715509752728725,\n",
       " 0.69314715320251911397,\n",
       " 0.69314715194683079556,\n",
       " 0.69314715110004733825,\n",
       " 0.6931471505206683166,\n",
       " 0.69314715011886522417,\n",
       " 0.6931471498362388037,\n",
       " 0.69314714963417671111,\n",
       " 0.69314714948684554762,\n",
       " 0.6931471493768190153,\n",
       " 0.69314714929227523506,\n",
       " 0.69314714922516326695,\n",
       " 0.69314714916998590232,\n",
       " 0.69314714912298306515,\n",
       " 0.693147149081579921,\n",
       " 0.69314714904401197382,\n",
       " 0.69314714900906949772,\n",
       " 0.69314714897592290309,\n",
       " 0.69314714894400321739,\n",
       " 0.69314714891292020157]"
      ]
     },
     "execution_count": 12,
     "metadata": {},
     "output_type": "execute_result"
    }
   ],
   "source": [
    "cost_list"
   ]
  },
  {
   "cell_type": "code",
   "execution_count": 13,
   "metadata": {
    "collapsed": false
   },
   "outputs": [
    {
     "data": {
      "image/png": "[encoded data removed]",
      "text/plain": [
       "<matplotlib.figure.Figure at 0x11988df28>"
      ]
     },
     "metadata": {},
     "output_type": "display_data"
    }
   ],
   "source": [
    "plt.plot(cost_list)\n",
    "\n",
    "#show plot\n",
    "plt.show()"
   ]
  },
  {
   "cell_type": "code",
   "execution_count": 14,
   "metadata": {
    "collapsed": false
   },
   "outputs": [
    {
     "data": {
      "text/plain": [
       "(1, 20)"
      ]
     },
     "execution_count": 14,
     "metadata": {},
     "output_type": "execute_result"
    }
   ],
   "source": [
    "Y_test.shape"
   ]
  },
  {
   "cell_type": "code",
   "execution_count": 15,
   "metadata": {
    "collapsed": false
   },
   "outputs": [
    {
     "data": {
      "text/plain": [
       "[0.69315095018528356319,\n",
       " 0.69314754290562019832,\n",
       " 0.69314728346257640043,\n",
       " 0.69314721310024452079,\n",
       " 0.69314718460516097875,\n",
       " 0.69314717051781129072,\n",
       " 0.69314716269605767721,\n",
       " 0.69314715802458861873,\n",
       " 0.69314715509752728725,\n",
       " 0.69314715320251911397,\n",
       " 0.69314715194683079556,\n",
       " 0.69314715110004733825,\n",
       " 0.6931471505206683166,\n",
       " 0.69314715011886522417,\n",
       " 0.6931471498362388037,\n",
       " 0.69314714963417671111,\n",
       " 0.69314714948684554762,\n",
       " 0.6931471493768190153,\n",
       " 0.69314714929227523506,\n",
       " 0.69314714922516326695,\n",
       " 0.69314714916998590232,\n",
       " 0.69314714912298306515,\n",
       " 0.693147149081579921,\n",
       " 0.69314714904401197382,\n",
       " 0.69314714900906949772,\n",
       " 0.69314714897592290309,\n",
       " 0.69314714894400321739,\n",
       " 0.69314714891292020157]"
      ]
     },
     "execution_count": 15,
     "metadata": {},
     "output_type": "execute_result"
    }
   ],
   "source": [
    "cost_list"
   ]
  },
  {
   "cell_type": "code",
   "execution_count": 16,
   "metadata": {
    "collapsed": false
   },
   "outputs": [
    {
     "data": {
      "text/plain": [
       "0.69314714832979830569"
      ]
     },
     "execution_count": 16,
     "metadata": {},
     "output_type": "execute_result"
    }
   ],
   "source": [
    "Z1=W1.dot(X_test)+B1   \n",
    "A1=sigmoid(Z1)\n",
    "\n",
    "Z2=W2.dot(A1)+B2\n",
    "A2=sigmoid(Z2)\n",
    "\n",
    "Z3=W3.dot(A2)+B3\n",
    "A3=sigmoid(Z3)\n",
    "\n",
    "cost(A3,Y_test)"
   ]
  },
  {
   "cell_type": "code",
   "execution_count": null,
   "metadata": {
    "collapsed": true
   },
   "outputs": [],
   "source": []
  }
 ],
 "metadata": {
  "anaconda-cloud": {},
  "kernelspec": {
   "display_name": "Python [default]",
   "language": "python",
   "name": "python3"
  },
  "language_info": {
   "codemirror_mode": {
    "name": "ipython",
    "version": 3
   },
   "file_extension": ".py",
   "mimetype": "text/x-python",
   "name": "python",
   "nbconvert_exporter": "python",
   "pygments_lexer": "ipython3",
   "version": "3.5.2"
  }
 },
 "nbformat": 4,
 "nbformat_minor": 2
}
