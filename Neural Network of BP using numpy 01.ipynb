{
 "cells": [
  {
   "cell_type": "code",
   "execution_count": 37,
   "metadata": {
    "collapsed": true
   },
   "outputs": [],
   "source": [
    "import numpy as np"
   ]
  },
  {
   "cell_type": "code",
   "execution_count": 44,
   "metadata": {
    "collapsed": false
   },
   "outputs": [],
   "source": [
    "import pandas as pd\n",
    "from sklearn.datasets import load_iris\n",
    "import matplotlib.pyplot as plt\n",
    "from sklearn.metrics import recall_score\n",
    "from sklearn.metrics import precision_score"
   ]
  },
  {
   "cell_type": "code",
   "execution_count": 39,
   "metadata": {
    "collapsed": false
   },
   "outputs": [
    {
     "data": {
      "text/plain": [
       "<function sklearn.metrics.classification.recall_score>"
      ]
     },
     "execution_count": 39,
     "metadata": {},
     "output_type": "execute_result"
    }
   ],
   "source": []
  },
  {
   "cell_type": "code",
   "execution_count": 2,
   "metadata": {
    "collapsed": false
   },
   "outputs": [],
   "source": [
    "\n",
    "data_raw=load_iris()\n",
    "\n",
    "data_x=data_raw['data'][:100]\n",
    "data_y=data_raw['target'][:100]\n",
    "\n",
    "data_all=pd.DataFrame(data_x)\n",
    "data_all['target']=data_y\n",
    "\n",
    "test_data=data_all.sample(frac=0.2)\n",
    "\n",
    "train_data=data_all.drop(test_data.index)"
   ]
  },
  {
   "cell_type": "markdown",
   "metadata": {},
   "source": [
    "$${\\displaystyle f(x)={\\frac {1}{1+e^{-x}}}={\\frac {e^{x}}{1+e^{x}}}}$$\n",
    "\n",
    "$${\\displaystyle {\\frac {d}{dx}}f(x)={\\frac {e^{x}}{(1+e^{x})^{2}}}=f(x)(1-f(x))}\n",
    "$$"
   ]
  },
  {
   "cell_type": "code",
   "execution_count": 3,
   "metadata": {
    "collapsed": true
   },
   "outputs": [],
   "source": [
    "def sigmoid(x,deri=False):\n",
    "    x=np.array(x,dtype=np.float128)\n",
    "    if deri==False:\n",
    "        \n",
    "        return np.array(1/(1+np.exp(-x)),dtype=np.float128)\n",
    "    elif deri==True:\n",
    "        return np.array(sigmoid(x)*(1-sigmoid(x)),dtype=np.float128)\n",
    "    else:\n",
    "        print('input error')"
   ]
  },
  {
   "cell_type": "code",
   "execution_count": 4,
   "metadata": {
    "collapsed": false
   },
   "outputs": [],
   "source": [
    "X=train_data.iloc[:,0:4]\n",
    "X=X.T.as_matrix()\n",
    "Y=train_data.iloc[:,4]\n",
    "Y=Y.T.as_matrix().reshape(1,-1)"
   ]
  },
  {
   "cell_type": "code",
   "execution_count": 5,
   "metadata": {
    "collapsed": false,
    "scrolled": false
   },
   "outputs": [],
   "source": [
    "X_mean=X.mean(axis=1).reshape(X.shape[0],1)"
   ]
  },
  {
   "cell_type": "code",
   "execution_count": 6,
   "metadata": {
    "collapsed": true
   },
   "outputs": [],
   "source": [
    "X_std=X.std(axis=1).reshape(X.shape[0],1)"
   ]
  },
  {
   "cell_type": "code",
   "execution_count": 7,
   "metadata": {
    "collapsed": false
   },
   "outputs": [],
   "source": [
    "X=((X-X_mean)/X_std)"
   ]
  },
  {
   "cell_type": "code",
   "execution_count": null,
   "metadata": {
    "collapsed": true
   },
   "outputs": [],
   "source": []
  },
  {
   "cell_type": "code",
   "execution_count": 8,
   "metadata": {
    "collapsed": false
   },
   "outputs": [],
   "source": [
    "X_test=test_data.iloc[:,0:4]\n",
    "X_test=X_test.T.as_matrix()\n",
    "Y_test=test_data.iloc[:,4]\n",
    "Y_test=Y_test.as_matrix().reshape(1,-1)"
   ]
  },
  {
   "cell_type": "markdown",
   "metadata": {},
   "source": [
    "# Net shape: data dimention of  each layer =[4,5,2,1]\n",
    " \n",
    "X.shape=(4,80)\n",
    "\n",
    "$ Z^{[1]}=W^{[1]}X+B^{[1]}   \\\\\n",
    "A^{[1]}=sigmoid(Z^{[1]})   \\\\\n",
    "Z^{[2]}=W^{[2]}X+B^{[2]}   \\\\\n",
    "A^{[2]}=sigmoid(Z^{[2]})  \n",
    "$\n",
    "\n",
    " "
   ]
  },
  {
   "cell_type": "markdown",
   "metadata": {},
   "source": [
    "## layer 0 =data input"
   ]
  },
  {
   "cell_type": "code",
   "execution_count": 9,
   "metadata": {
    "collapsed": false,
    "scrolled": true
   },
   "outputs": [
    {
     "data": {
      "text/plain": [
       "(4, 80)"
      ]
     },
     "execution_count": 9,
     "metadata": {},
     "output_type": "execute_result"
    }
   ],
   "source": [
    "X.shape"
   ]
  },
  {
   "cell_type": "code",
   "execution_count": 10,
   "metadata": {
    "collapsed": false,
    "scrolled": true
   },
   "outputs": [
    {
     "data": {
      "text/plain": [
       "(1, 80)"
      ]
     },
     "execution_count": 10,
     "metadata": {},
     "output_type": "execute_result"
    }
   ],
   "source": [
    "Y.shape"
   ]
  },
  {
   "cell_type": "code",
   "execution_count": 11,
   "metadata": {
    "collapsed": true
   },
   "outputs": [],
   "source": [
    "def cost(AL,Y):\n",
    "    m=Y.shape[1]\n",
    "    cost = (-1/m)*np.sum(Y*np.log(AL)+(1-Y)*np.log(1-AL))\n",
    "    cost = np.squeeze(cost)\n",
    "    assert(cost.shape == ())\n",
    "    return   cost\n",
    "\n"
   ]
  },
  {
   "cell_type": "code",
   "execution_count": 12,
   "metadata": {
    "collapsed": false
   },
   "outputs": [],
   "source": [
    "\n",
    "W1=10*0.001*np.random.rand(5,4)\n",
    "B1=np.zeros(shape=(W1.shape[0],1))\n",
    "W2=10*0.001*np.random.rand(2,5)\n",
    "B2=np.zeros(shape=(W2.shape[0],1))\n",
    "W3=10*0.001*np.random.rand(1,2)\n",
    "B3=np.zeros(shape=(W3.shape[0],1))\n",
    "\n",
    "\n",
    "\n",
    "\n"
   ]
  },
  {
   "cell_type": "code",
   "execution_count": 13,
   "metadata": {
    "collapsed": true
   },
   "outputs": [],
   "source": [
    "cost_list=[]\n",
    "iterations=[]\n",
    " "
   ]
  },
  {
   "cell_type": "code",
   "execution_count": 14,
   "metadata": {
    "collapsed": false,
    "scrolled": false
   },
   "outputs": [
    {
     "name": "stdout",
     "output_type": "stream",
     "text": [
      "0.692745980777\n",
      "0.0253219306694      0.0175416656967\n",
      "0.187967410589      0.00329726147843\n",
      "0.549322425597      0.00181125967316\n",
      "0.688885687643      0.00124775086544\n",
      "0.762542978554      0.000951463661429\n",
      "0.808028266126      0.000768809532627\n",
      "0.83890113513      0.000644955189619\n",
      "0.86122557648      0.000555451904984\n",
      "0.878119005604      0.000487752874465\n",
      "0.89134771603      0.000434757410642\n",
      "0.901987165531      0.000392145604518\n",
      "0.910729585039      0.000357138603678\n",
      "0.918040687437      0.000327867769231\n",
      "0.924245301926      0.000303030245365\n",
      "0.929576895093      0.000281689914605\n",
      "0.934207577985      0.000263156852866\n",
      "0.938267016697      0.000246911395262\n",
      "0.941854755519      0.00023255467182\n",
      "0.945048482691      0.000219775439746\n",
      "0.947909716133      0.000208327274702\n",
      "0.950487802158      0.000198012533461\n",
      "0.95282278359      0.000188670853318\n",
      "0.954947493435      0.00018017075846\n",
      "0.956889107539      0.000172403436268\n",
      "0.958670312599      0.00016527805614\n",
      "0.960310196281      0.000158718202533\n",
      "0.961824933634      0.000152659124618\n",
      "0.963228322191      0.000147045592473\n",
      "0.964532203286      0.000141830209291\n",
      "0.965746796849      0.000136972070319\n",
      "0.966880969724      0.000132435688175\n",
      "0.967942452408      0.000128190124799\n",
      "0.968938015433      0.000124208285121\n",
      "0.969873613875      0.000120466338363\n",
      "0.970754506532      0.000116943240852\n",
      "0.971585354789      0.000113620340153\n",
      "0.972370305105      0.000110481044821\n",
      "0.973113058203      0.000107510547399\n",
      "0.973816927393      0.00010469559093\n",
      "0.974484887973      0.000102024271199\n",
      "0.975119619258      9.94858684864e-05\n",
      "0.975723540491      9.70707038284e-05\n",
      "0.97629884165      9.47700157058e-05\n",
      "0.976847509976      9.25758538626e-05\n",
      "0.977371352902      9.04809875357e-05\n",
      "0.977872017939      8.84788258667e-05\n",
      "0.978351009979      8.65633486484e-05\n",
      "0.978809706403      8.47290458759e-05\n",
      "0.979249370302      8.29708648203e-05\n",
      "0.979671162091      8.12841635582e-05\n",
      "0.980076149735      7.96646700545e-05\n",
      "0.980465317774      7.81084460404e-05\n",
      "0.980839575314      7.66118550427e-05\n",
      "0.981199763116      7.51715340198e-05\n",
      "0.981546659897      7.37843681365e-05\n",
      "0.981880987953      7.24474682814e-05\n",
      "0.982203418176      7.11581509841e-05\n",
      "0.982514574545      6.99139204396e-05\n",
      "0.98281503816      6.87124523847e-05\n",
      "0.98310535086      6.75515796101e-05\n",
      "0.983386018484      6.64292789151e-05\n",
      "0.983657513813      6.5343659342e-05\n",
      "0.983920279225      6.42929515454e-05\n",
      "0.984174729103      6.32754981704e-05\n",
      "0.984421252012      6.22897451306e-05\n",
      "0.984660212682      6.13342336882e-05\n",
      "0.984891953803      6.04075932522e-05\n",
      "0.985116797672      5.95085348197e-05\n",
      "0.985335047681      5.8635844994e-05\n",
      "0.985546989687      5.77883805216e-05\n",
      "0.985752893259      5.69650632959e-05\n",
      "0.985953012822      5.61648757822e-05\n",
      "0.986147588709      5.53868568227e-05\n",
      "0.986336848116      5.46300977856e-05\n",
      "0.986521005996      5.38937390251e-05\n",
      "0.986700265865      5.31769666245e-05\n",
      "0.986874820558      5.24790093954e-05\n",
      "0.98704485292      5.17991361101e-05\n",
      "0.987210536442      5.11366529465e-05\n",
      "0.987372035853      5.04909011265e-05\n",
      "0.987529507666      4.9861254731e-05\n",
      "0.987683100687      4.92471186769e-05\n",
      "0.987832956476      4.86479268405e-05\n",
      "0.987979209792      4.80631403179e-05\n",
      "0.988121988991      4.74922458081e-05\n",
      "0.988261416401      4.69347541103e-05\n",
      "0.988397608675      4.63901987264e-05\n",
      "0.988530677117      4.58581345586e-05\n",
      "0.98866072798      4.53381366965e-05\n",
      "0.988787862754      4.48297992854e-05\n",
      "0.988912178428      4.43327344698e-05\n",
      "0.989033767737      4.38465714067e-05\n",
      "0.989152719394      4.33709553431e-05\n",
      "0.989269118302      4.29055467522e-05\n",
      "0.989383045762      4.24500205258e-05\n",
      "0.989494579657      4.20040652166e-05\n",
      "0.989603794633      4.15673823283e-05\n",
      "0.989710762261      4.11396856494e-05\n",
      "0.9898155512      4.07207006272e-05\n"
     ]
    }
   ],
   "source": [
    "iteration_number=1000000\n",
    "for i in range(iteration_number):\n",
    "\n",
    "    # forward\n",
    "\n",
    "    learning_rate=0.0075*10\n",
    "\n",
    "    Z1=W1.dot(X)+B1   \n",
    "    A1=sigmoid(Z1)\n",
    "    A1=np.array(A1,dtype=np.float128)\n",
    "\n",
    "    Z2=W2.dot(A1)+B2\n",
    "    A2=sigmoid(Z2)\n",
    "    A2=np.array(A2,dtype=np.float128)\n",
    "\n",
    "    Z3=W3.dot(A2)+B3\n",
    "    A3=sigmoid(Z3)\n",
    "    A3=np.array(A3,dtype=np.float128)\n",
    "\n",
    "\n",
    "    dA3 = - (np.divide(Y, A3) - np.divide(1 - Y, 1 - A3))\n",
    "    dA3=np.array(dA3,dtype=np.float128)\n",
    "\n",
    "    if i %(iteration_number/100)==0:\n",
    "\n",
    "        cost_list.append(cost(A3,Y))\n",
    "        iterations.append(i)\n",
    "        try:\n",
    "            print(\"cost = \",cost_list[-1],\" ; cost/cost_previous =  \",(cost_list[-1]/cost_list[-2])\n",
    "        except:\n",
    "            print(\"cost = \",cost_list[-1])\n",
    "\n",
    "        \n",
    "        \n",
    "        \n",
    "    # backforward\n",
    "\n",
    "\n",
    "\n",
    "\n",
    "    m=Y.shape[1]\n",
    "    \n",
    "\n",
    "    dW3=(1/m)*(dA3*sigmoid(Z3,deri=True)).dot(A2.T )\n",
    "\n",
    "    dZ3=dA3*sigmoid(Z3,deri=True)\n",
    "\n",
    "    dB3=(1/m)*np.sum(dZ3,axis=1,keepdims=True)\n",
    "\n",
    "\n",
    "    dA2=W3.T.dot(dZ3)\n",
    "\n",
    "    dZ2=dA2*sigmoid(Z2,deri=True)\n",
    "\n",
    "    dW2=(1/m)*dZ2.dot(A1.T)\n",
    "\n",
    "    dB2=(1/m)*np.sum(dZ2,axis=1,keepdims=True)\n",
    "\n",
    "    dA1=W2.T.dot(dZ2)\n",
    "    dZ1=dA1*sigmoid(Z1,deri=True)\n",
    "\n",
    "    A0=X\n",
    "\n",
    "    dW1=(1/m)*dZ1.dot(A0.T)\n",
    "\n",
    "    dB1=(1/m)*np.sum(dZ1,axis=1,keepdims=True)\n",
    "\n",
    "\n",
    "\n",
    "    W1+=-learning_rate* dW1\n",
    "    B1+=-learning_rate* dB1\n",
    "    W2+=-learning_rate* dW2\n",
    "    B2+=-learning_rate* dB2\n",
    "    W3+=-learning_rate* dW3\n",
    "    B3+=-learning_rate* dB3\n"
   ]
  },
  {
   "cell_type": "code",
   "execution_count": 15,
   "metadata": {
    "collapsed": false
   },
   "outputs": [
    {
     "data": {
      "text/plain": [
       "[0.69274598077737027278,\n",
       " 0.017541665696717752161,\n",
       " 0.0032972614784292959521,\n",
       " 0.0018112596731593307804,\n",
       " 0.0012477508654445835871,\n",
       " 0.00095146366142906867903,\n",
       " 0.00076880953262651054614,\n",
       " 0.00064495518961902374068,\n",
       " 0.00055545190498357697017,\n",
       " 0.00048775287446524245339,\n",
       " 0.0004347574106418006076,\n",
       " 0.00039214560451824875781,\n",
       " 0.00035713860367795052333,\n",
       " 0.00032786776923095146124,\n",
       " 0.00030303024536464571615,\n",
       " 0.00028168991460547613213,\n",
       " 0.00026315685286635010422,\n",
       " 0.00024691139526223088469,\n",
       " 0.00023255467181950520991,\n",
       " 0.00021977543974570257525,\n",
       " 0.00020832727470242246283,\n",
       " 0.00019801253346138020089,\n",
       " 0.00018867085331830586062,\n",
       " 0.00018017075846048183913,\n",
       " 0.00017240343626786379843,\n",
       " 0.00016527805614011272205,\n",
       " 0.00015871820253287480477,\n",
       " 0.00015265912461769719234,\n",
       " 0.00014704559247264400281,\n",
       " 0.00014183020929110481969,\n",
       " 0.00013697207031931879542,\n",
       " 0.00013243568817539336136,\n",
       " 0.0001281901247988571464,\n",
       " 0.00012420828512071248256,\n",
       " 0.00012046633836328087042,\n",
       " 0.00011694324085159948505,\n",
       " 0.00011362034015294537295,\n",
       " 0.00011048104482061084555,\n",
       " 0.00010751054739880241933,\n",
       " 0.00010469559093020179114,\n",
       " 0.00010202427119883427496,\n",
       " 9.9485868486432851269e-05,\n",
       " 9.7070703828385915032e-05,\n",
       " 9.4770015705796767234e-05,\n",
       " 9.2575853862591474601e-05,\n",
       " 9.0480987535727416678e-05,\n",
       " 8.8478825866651407936e-05,\n",
       " 8.6563348648427310318e-05,\n",
       " 8.4729045875866332576e-05,\n",
       " 8.297086482025399958e-05,\n",
       " 8.1284163558179664901e-05,\n",
       " 7.9664670054536269335e-05,\n",
       " 7.8108446040388644135e-05,\n",
       " 7.6611855042717200833e-05,\n",
       " 7.5171534019793904873e-05,\n",
       " 7.3784368136477356437e-05,\n",
       " 7.244746828135013503e-05,\n",
       " 7.1158150984115704121e-05,\n",
       " 6.991392043955912392e-05,\n",
       " 6.8712452384714950847e-05,\n",
       " 6.7551579610115190697e-05,\n",
       " 6.6429278915092111792e-05,\n",
       " 6.5343659341993814986e-05,\n",
       " 6.4292951545360513172e-05,\n",
       " 6.3275498170392527938e-05,\n",
       " 6.2289745130608251494e-05,\n",
       " 6.1334233688204441843e-05,\n",
       " 6.0407593252213008485e-05,\n",
       " 5.9508534819707177709e-05,\n",
       " 5.8635844994009131506e-05,\n",
       " 5.7788380521585100619e-05,\n",
       " 5.6965063295883811805e-05,\n",
       " 5.6164875782194880659e-05,\n",
       " 5.5386856822741049703e-05,\n",
       " 5.4630097785605120378e-05,\n",
       " 5.3893739025087739503e-05,\n",
       " 5.3176966624493729823e-05,\n",
       " 5.2479009395383667697e-05,\n",
       " 5.1799136110078268114e-05,\n",
       " 5.1136652946467776963e-05,\n",
       " 5.0490901126456497062e-05,\n",
       " 4.9861254731039955634e-05,\n",
       " 4.9247118676875044343e-05,\n",
       " 4.8647926840505351436e-05,\n",
       " 4.8063140317913906124e-05,\n",
       " 4.7492245808069602082e-05,\n",
       " 4.6934754110330966145e-05,\n",
       " 4.6390198726420448835e-05,\n",
       " 4.5858134558623540684e-05,\n",
       " 4.5338136696529303169e-05,\n",
       " 4.4829799285396558572e-05,\n",
       " 4.4332734469797872447e-05,\n",
       " 4.3846571406746428641e-05,\n",
       " 4.3370955343071091252e-05,\n",
       " 4.2905546752167128161e-05,\n",
       " 4.2450020525759930051e-05,\n",
       " 4.2004065216583326271e-05,\n",
       " 4.1567382328322916572e-05,\n",
       " 4.1139685649352364193e-05,\n",
       " 4.0720700627222975384e-05]"
      ]
     },
     "execution_count": 15,
     "metadata": {},
     "output_type": "execute_result"
    }
   ],
   "source": [
    "cost_list"
   ]
  },
  {
   "cell_type": "code",
   "execution_count": 16,
   "metadata": {
    "collapsed": false
   },
   "outputs": [
    {
     "data": {
      "image/png": "[encoded data removed]",
      "text/plain": [
       "<matplotlib.figure.Figure at 0x7fd59c666e10>"
      ]
     },
     "metadata": {},
     "output_type": "display_data"
    }
   ],
   "source": [
    "plt.plot(cost_list)\n",
    "\n",
    "#show plot\n",
    "plt.show()"
   ]
  },
  {
   "cell_type": "code",
   "execution_count": 17,
   "metadata": {
    "collapsed": false
   },
   "outputs": [
    {
     "data": {
      "text/plain": [
       "(1, 20)"
      ]
     },
     "execution_count": 17,
     "metadata": {},
     "output_type": "execute_result"
    }
   ],
   "source": [
    "Y_test.shape"
   ]
  },
  {
   "cell_type": "code",
   "execution_count": 18,
   "metadata": {
    "collapsed": false
   },
   "outputs": [
    {
     "data": {
      "text/plain": [
       "[0.69274598077737027278,\n",
       " 0.017541665696717752161,\n",
       " 0.0032972614784292959521,\n",
       " 0.0018112596731593307804,\n",
       " 0.0012477508654445835871,\n",
       " 0.00095146366142906867903,\n",
       " 0.00076880953262651054614,\n",
       " 0.00064495518961902374068,\n",
       " 0.00055545190498357697017,\n",
       " 0.00048775287446524245339,\n",
       " 0.0004347574106418006076,\n",
       " 0.00039214560451824875781,\n",
       " 0.00035713860367795052333,\n",
       " 0.00032786776923095146124,\n",
       " 0.00030303024536464571615,\n",
       " 0.00028168991460547613213,\n",
       " 0.00026315685286635010422,\n",
       " 0.00024691139526223088469,\n",
       " 0.00023255467181950520991,\n",
       " 0.00021977543974570257525,\n",
       " 0.00020832727470242246283,\n",
       " 0.00019801253346138020089,\n",
       " 0.00018867085331830586062,\n",
       " 0.00018017075846048183913,\n",
       " 0.00017240343626786379843,\n",
       " 0.00016527805614011272205,\n",
       " 0.00015871820253287480477,\n",
       " 0.00015265912461769719234,\n",
       " 0.00014704559247264400281,\n",
       " 0.00014183020929110481969,\n",
       " 0.00013697207031931879542,\n",
       " 0.00013243568817539336136,\n",
       " 0.0001281901247988571464,\n",
       " 0.00012420828512071248256,\n",
       " 0.00012046633836328087042,\n",
       " 0.00011694324085159948505,\n",
       " 0.00011362034015294537295,\n",
       " 0.00011048104482061084555,\n",
       " 0.00010751054739880241933,\n",
       " 0.00010469559093020179114,\n",
       " 0.00010202427119883427496,\n",
       " 9.9485868486432851269e-05,\n",
       " 9.7070703828385915032e-05,\n",
       " 9.4770015705796767234e-05,\n",
       " 9.2575853862591474601e-05,\n",
       " 9.0480987535727416678e-05,\n",
       " 8.8478825866651407936e-05,\n",
       " 8.6563348648427310318e-05,\n",
       " 8.4729045875866332576e-05,\n",
       " 8.297086482025399958e-05,\n",
       " 8.1284163558179664901e-05,\n",
       " 7.9664670054536269335e-05,\n",
       " 7.8108446040388644135e-05,\n",
       " 7.6611855042717200833e-05,\n",
       " 7.5171534019793904873e-05,\n",
       " 7.3784368136477356437e-05,\n",
       " 7.244746828135013503e-05,\n",
       " 7.1158150984115704121e-05,\n",
       " 6.991392043955912392e-05,\n",
       " 6.8712452384714950847e-05,\n",
       " 6.7551579610115190697e-05,\n",
       " 6.6429278915092111792e-05,\n",
       " 6.5343659341993814986e-05,\n",
       " 6.4292951545360513172e-05,\n",
       " 6.3275498170392527938e-05,\n",
       " 6.2289745130608251494e-05,\n",
       " 6.1334233688204441843e-05,\n",
       " 6.0407593252213008485e-05,\n",
       " 5.9508534819707177709e-05,\n",
       " 5.8635844994009131506e-05,\n",
       " 5.7788380521585100619e-05,\n",
       " 5.6965063295883811805e-05,\n",
       " 5.6164875782194880659e-05,\n",
       " 5.5386856822741049703e-05,\n",
       " 5.4630097785605120378e-05,\n",
       " 5.3893739025087739503e-05,\n",
       " 5.3176966624493729823e-05,\n",
       " 5.2479009395383667697e-05,\n",
       " 5.1799136110078268114e-05,\n",
       " 5.1136652946467776963e-05,\n",
       " 5.0490901126456497062e-05,\n",
       " 4.9861254731039955634e-05,\n",
       " 4.9247118676875044343e-05,\n",
       " 4.8647926840505351436e-05,\n",
       " 4.8063140317913906124e-05,\n",
       " 4.7492245808069602082e-05,\n",
       " 4.6934754110330966145e-05,\n",
       " 4.6390198726420448835e-05,\n",
       " 4.5858134558623540684e-05,\n",
       " 4.5338136696529303169e-05,\n",
       " 4.4829799285396558572e-05,\n",
       " 4.4332734469797872447e-05,\n",
       " 4.3846571406746428641e-05,\n",
       " 4.3370955343071091252e-05,\n",
       " 4.2905546752167128161e-05,\n",
       " 4.2450020525759930051e-05,\n",
       " 4.2004065216583326271e-05,\n",
       " 4.1567382328322916572e-05,\n",
       " 4.1139685649352364193e-05,\n",
       " 4.0720700627222975384e-05]"
      ]
     },
     "execution_count": 18,
     "metadata": {},
     "output_type": "execute_result"
    }
   ],
   "source": [
    "cost_list"
   ]
  },
  {
   "cell_type": "code",
   "execution_count": 19,
   "metadata": {
    "collapsed": true
   },
   "outputs": [],
   "source": [
    "X_test_mean=X_test.mean(axis=1).reshape(X_test.shape[0],1)\n",
    "X_test_std=X_test.std(axis=1).reshape(X_test.shape[0],1)\n",
    "\n",
    "X_test=(X_test-X_test_mean)/X_test_std"
   ]
  },
  {
   "cell_type": "code",
   "execution_count": 20,
   "metadata": {
    "collapsed": false
   },
   "outputs": [
    {
     "data": {
      "text/plain": [
       "6.0980648085124307173e-05"
      ]
     },
     "execution_count": 20,
     "metadata": {},
     "output_type": "execute_result"
    }
   ],
   "source": [
    "Z1=W1.dot(X_test)+B1   \n",
    "A1=sigmoid(Z1)\n",
    "\n",
    "Z2=W2.dot(A1)+B2\n",
    "A2=sigmoid(Z2)\n",
    "\n",
    "Z3=W3.dot(A2)+B3\n",
    "A3=sigmoid(Z3)\n",
    "\n",
    "cost(A3,Y_test)"
   ]
  },
  {
   "cell_type": "code",
   "execution_count": 35,
   "metadata": {
    "collapsed": false,
    "scrolled": false
   },
   "outputs": [
    {
     "data": {
      "text/plain": [
       "array([ 0.0001,  0.0001,  1.0,  1.0,  0.0001,  1.0,  0.0001,  0.0001,  1.0,\n",
       "        1.0,  0.0001,  1.0,  0.0002,  0.0001,  0.0001,  0.0001,  0.0001,\n",
       "        0.0001,  0.0001,  0.0001], dtype=float128)"
      ]
     },
     "execution_count": 35,
     "metadata": {},
     "output_type": "execute_result"
    }
   ],
   "source": [
    "A3[0].round(4)"
   ]
  },
  {
   "cell_type": "code",
   "execution_count": 40,
   "metadata": {
    "collapsed": false,
    "scrolled": true
   },
   "outputs": [
    {
     "data": {
      "text/plain": [
       "array([0, 0, 1, 1, 0, 1, 0, 0, 1, 1, 0, 1, 0, 0, 0, 0, 0, 0, 0, 0])"
      ]
     },
     "execution_count": 40,
     "metadata": {},
     "output_type": "execute_result"
    }
   ],
   "source": [
    "Y_test[0]"
   ]
  },
  {
   "cell_type": "code",
   "execution_count": 26,
   "metadata": {
    "collapsed": false
   },
   "outputs": [
    {
     "data": {
      "text/plain": [
       "(1, 20)"
      ]
     },
     "execution_count": 26,
     "metadata": {},
     "output_type": "execute_result"
    }
   ],
   "source": []
  },
  {
   "cell_type": "code",
   "execution_count": 43,
   "metadata": {
    "collapsed": false
   },
   "outputs": [
    {
     "data": {
      "text/plain": [
       "1.0"
      ]
     },
     "execution_count": 43,
     "metadata": {},
     "output_type": "execute_result"
    }
   ],
   "source": [
    "recall_score(Y_test[0],A3[0].round())"
   ]
  },
  {
   "cell_type": "code",
   "execution_count": 48,
   "metadata": {
    "collapsed": false
   },
   "outputs": [
    {
     "data": {
      "text/plain": [
       "1.0"
      ]
     },
     "execution_count": 48,
     "metadata": {},
     "output_type": "execute_result"
    }
   ],
   "source": [
    "precision_score(Y_test[0],A3[0].round())"
   ]
  },
  {
   "cell_type": "code",
   "execution_count": null,
   "metadata": {
    "collapsed": true
   },
   "outputs": [],
   "source": []
  }
 ],
 "metadata": {
  "kernelspec": {
   "display_name": "Python 3",
   "language": "python",
   "name": "python3"
  },
  "language_info": {
   "codemirror_mode": {
    "name": "ipython",
    "version": 3
   },
   "file_extension": ".py",
   "mimetype": "text/x-python",
   "name": "python",
   "nbconvert_exporter": "python",
   "pygments_lexer": "ipython3",
   "version": "3.5.4"
  }
 },
 "nbformat": 4,
 "nbformat_minor": 2
}
