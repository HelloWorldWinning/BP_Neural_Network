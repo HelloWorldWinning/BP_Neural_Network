{
 "cells": [
  {
   "cell_type": "code",
   "execution_count": 1,
   "metadata": {
    "collapsed": true
   },
   "outputs": [],
   "source": [
    "import numpy as np"
   ]
  },
  {
   "cell_type": "code",
   "execution_count": 2,
   "metadata": {
    "collapsed": false
   },
   "outputs": [],
   "source": [
    "import pandas as pd\n",
    "from sklearn.datasets import load_iris\n",
    "import matplotlib.pyplot as plt\n",
    "from sklearn.metrics import recall_score\n",
    "from sklearn.metrics import precision_score"
   ]
  },
  {
   "cell_type": "code",
   "execution_count": 3,
   "metadata": {
    "collapsed": false
   },
   "outputs": [],
   "source": [
    "\n",
    "data_raw=load_iris()\n",
    "\n",
    "data_x=data_raw['data'][:100]\n",
    "data_y=data_raw['target'][:100]\n",
    "\n",
    "data_all=pd.DataFrame(data_x)\n",
    "data_all['target']=data_y\n",
    "\n",
    "test_data=data_all.sample(frac=0.2)\n",
    "\n",
    "train_data=data_all.drop(test_data.index)"
   ]
  },
  {
   "cell_type": "markdown",
   "metadata": {},
   "source": [
    "$${\\displaystyle f(x)={\\frac {1}{1+e^{-x}}}={\\frac {e^{x}}{1+e^{x}}}}$$\n",
    "\n",
    "$${\\displaystyle {\\frac {d}{dx}}f(x)={\\frac {e^{x}}{(1+e^{x})^{2}}}=f(x)(1-f(x))}\n",
    "$$"
   ]
  },
  {
   "cell_type": "code",
   "execution_count": 4,
   "metadata": {
    "collapsed": true
   },
   "outputs": [],
   "source": [
    "def sigmoid(x,deri=False):\n",
    "    x=np.array(x,dtype=np.float128)\n",
    "    if deri==False:\n",
    "        \n",
    "        return np.array(1/(1+np.exp(-x)),dtype=np.float128)\n",
    "    elif deri==True:\n",
    "        return np.array(sigmoid(x)*(1-sigmoid(x)),dtype=np.float128)\n",
    "    else:\n",
    "        print('input error')"
   ]
  },
  {
   "cell_type": "code",
   "execution_count": 5,
   "metadata": {
    "collapsed": false
   },
   "outputs": [],
   "source": [
    "X=train_data.iloc[:,0:4]\n",
    "X=X.T.as_matrix()\n",
    "Y=train_data.iloc[:,4]\n",
    "Y=Y.T.as_matrix().reshape(1,-1)"
   ]
  },
  {
   "cell_type": "code",
   "execution_count": 6,
   "metadata": {
    "collapsed": false,
    "scrolled": false
   },
   "outputs": [],
   "source": [
    "X_mean=X.mean(axis=1).reshape(X.shape[0],1)"
   ]
  },
  {
   "cell_type": "code",
   "execution_count": 7,
   "metadata": {
    "collapsed": true
   },
   "outputs": [],
   "source": [
    "X_std=X.std(axis=1).reshape(X.shape[0],1)"
   ]
  },
  {
   "cell_type": "code",
   "execution_count": 8,
   "metadata": {
    "collapsed": false
   },
   "outputs": [],
   "source": [
    "X=((X-X_mean)/X_std)"
   ]
  },
  {
   "cell_type": "code",
   "execution_count": null,
   "metadata": {
    "collapsed": true
   },
   "outputs": [],
   "source": []
  },
  {
   "cell_type": "code",
   "execution_count": 9,
   "metadata": {
    "collapsed": false
   },
   "outputs": [],
   "source": [
    "X_test=test_data.iloc[:,0:4]\n",
    "X_test=X_test.T.as_matrix()\n",
    "Y_test=test_data.iloc[:,4]\n",
    "Y_test=Y_test.as_matrix().reshape(1,-1)"
   ]
  },
  {
   "cell_type": "markdown",
   "metadata": {},
   "source": [
    "# Net shape: data dimention of  each layer =[4,5,2,1]\n",
    " \n",
    "X.shape=(4,80)\n",
    "\n",
    "$ Z^{[1]}=W^{[1]}X+B^{[1]}   \\\\\n",
    "A^{[1]}=sigmoid(Z^{[1]})   \\\\\n",
    "Z^{[2]}=W^{[2]}X+B^{[2]}   \\\\\n",
    "A^{[2]}=sigmoid(Z^{[2]})  \n",
    "$\n",
    "\n",
    " "
   ]
  },
  {
   "cell_type": "markdown",
   "metadata": {},
   "source": [
    "## layer 0 =data input"
   ]
  },
  {
   "cell_type": "code",
   "execution_count": 10,
   "metadata": {
    "collapsed": false,
    "scrolled": true
   },
   "outputs": [
    {
     "data": {
      "text/plain": [
       "(4, 80)"
      ]
     },
     "execution_count": 10,
     "metadata": {},
     "output_type": "execute_result"
    }
   ],
   "source": [
    "X.shape"
   ]
  },
  {
   "cell_type": "code",
   "execution_count": 11,
   "metadata": {
    "collapsed": false,
    "scrolled": true
   },
   "outputs": [
    {
     "data": {
      "text/plain": [
       "(1, 80)"
      ]
     },
     "execution_count": 11,
     "metadata": {},
     "output_type": "execute_result"
    }
   ],
   "source": [
    "Y.shape"
   ]
  },
  {
   "cell_type": "code",
   "execution_count": 12,
   "metadata": {
    "collapsed": true
   },
   "outputs": [],
   "source": [
    "def cost(AL,Y):\n",
    "    m=Y.shape[1]\n",
    "    cost = (-1/m)*np.sum(Y*np.log(AL)+(1-Y)*np.log(1-AL))\n",
    "    cost = np.squeeze(cost)\n",
    "    assert(cost.shape == ())\n",
    "    return   cost\n",
    "\n"
   ]
  },
  {
   "cell_type": "code",
   "execution_count": 13,
   "metadata": {
    "collapsed": false
   },
   "outputs": [],
   "source": [
    "\n",
    "W1=100*0.001*np.random.rand(5,4)\n",
    "B1=np.zeros(shape=(W1.shape[0],1))\n",
    "W2=100*0.001*np.random.rand(2,5)\n",
    "B2=np.zeros(shape=(W2.shape[0],1))\n",
    "W3=100*0.001*np.random.rand(1,2)\n",
    "B3=np.zeros(shape=(W3.shape[0],1))\n",
    "\n",
    "\n",
    "\n",
    "\n"
   ]
  },
  {
   "cell_type": "code",
   "execution_count": 14,
   "metadata": {
    "collapsed": true
   },
   "outputs": [],
   "source": [
    "cost_list=[]\n",
    "iterations=[]\n",
    " "
   ]
  },
  {
   "cell_type": "code",
   "execution_count": 15,
   "metadata": {
    "collapsed": false,
    "scrolled": false
   },
   "outputs": [
    {
     "name": "stdout",
     "output_type": "stream",
     "text": [
      "cost =  0.693991863063\n",
      "cost =  0.0199465657925  ; cost/cost_previous =   0.0287417862573\n",
      "cost =  0.00582809932098  ; cost/cost_previous =   0.292185601352\n",
      "cost =  0.00338892007945  ; cost/cost_previous =   0.581479465742\n",
      "cost =  0.00238582836385  ; cost/cost_previous =   0.704008447503\n",
      "cost =  0.00184001504526  ; cost/cost_previous =   0.771226913529\n",
      "cost =  0.00149708578837  ; cost/cost_previous =   0.813626927796\n",
      "cost =  0.00126173538684  ; cost/cost_previous =   0.842794311886\n",
      "cost =  0.00109024168018  ; cost/cost_previous =   0.864081083523\n",
      "cost =  0.000959737659609  ; cost/cost_previous =   0.880298081659\n",
      "cost =  0.00085710551324  ; cost/cost_previous =   0.893062291198\n",
      "cost =  0.000774283002007  ; cost/cost_previous =   0.903369526909\n",
      "cost =  0.000706042691593  ; cost/cost_previous =   0.911866449041\n",
      "cost =  0.000648847018757  ; cost/cost_previous =   0.918991197676\n",
      "cost =  0.000600216675209  ; cost/cost_previous =   0.925051141267\n",
      "cost =  0.000558362523338  ; cost/cost_previous =   0.930268262114\n",
      "cost =  0.000521961123836  ; cost/cost_previous =   0.934806871915\n",
      "cost =  0.000490012505937  ; cost/cost_previous =   0.9387911926\n",
      "cost =  0.000461747054197  ; cost/cost_previous =   0.94231687682\n",
      "cost =  0.000436562803052  ; cost/cost_previous =   0.945458772468\n",
      "cost =  0.000413982153482  ; cost/cost_previous =   0.948276285995\n",
      "cost =  0.000393621338872  ; cost/cost_previous =   0.950817168232\n",
      "cost =  0.000375168464454  ; cost/cost_previous =   0.953120238677\n",
      "cost =  0.000358367437646  ; cost/cost_previous =   0.955217379924\n",
      "cost =  0.000343006024812  ; cost/cost_previous =   0.957135020594\n",
      "cost =  0.000328906849117  ; cost/cost_previous =   0.95889525351\n",
      "cost =  0.000315920517915  ; cost/cost_previous =   0.960516689644\n",
      "cost =  0.000303920314298  ; cost/cost_previous =   0.962015117928\n",
      "cost =  0.000292798052712  ; cost/cost_previous =   0.963404020518\n",
      "cost =  0.000282460811358  ; cost/cost_previous =   0.964694979158\n",
      "cost =  0.000272828332366  ; cost/cost_previous =   0.965897998573\n",
      "cost =  0.000263830935783  ; cost/cost_previous =   0.967021766012\n",
      "cost =  0.000255407832698  ; cost/cost_previous =   0.968073861165\n",
      "cost =  0.000247505751167  ; cost/cost_previous =   0.969060927193\n",
      "cost =  0.000240077809295  ; cost/cost_previous =   0.969988811022\n",
      "cost =  0.000233082585135  ; cost/cost_previous =   0.970862679143\n",
      "cost =  0.000226483344424  ; cost/cost_previous =   0.971687113788\n",
      "cost =  0.000220247395783  ; cost/cost_previous =   0.972466193235\n",
      "cost =  0.000214345549487  ; cost/cost_previous =   0.973203559228\n",
      "cost =  0.000208751660905  ; cost/cost_previous =   0.973902473855\n",
      "cost =  0.000203442243556  ; cost/cost_previous =   0.974565867758\n",
      "cost =  0.000198396139696  ; cost/cost_previous =   0.975196381184\n",
      "cost =  0.000193594238706  ; cost/cost_previous =   0.975796399078\n",
      "cost =  0.000189019235379  ; cost/cost_previous =   0.976368081212\n",
      "cost =  0.000184655421658  ; cost/cost_previous =   0.976913388139\n",
      "cost =  0.000180488506552  ; cost/cost_previous =   0.977434103649\n",
      "cost =  0.000176505459882  ; cost/cost_previous =   0.977931854245\n",
      "cost =  0.00017269437625  ; cost/cost_previous =   0.978408126104\n",
      "cost =  0.000169044356249  ; cost/cost_previous =   0.97886427989\n",
      "cost =  0.000165545402415  ; cost/cost_previous =   0.979301563729\n",
      "cost =  0.000162188327827  ; cost/cost_previous =   0.979721124606\n",
      "cost =  0.000158964675608  ; cost/cost_previous =   0.980124018404\n",
      "cost =  0.000155866647823  ; cost/cost_previous =   0.980511218777\n",
      "cost =  0.000152887042532  ; cost/cost_previous =   0.980883624995\n",
      "cost =  0.000150019197925  ; cost/cost_previous =   0.981242068919\n",
      "cost =  0.00014725694262  ; cost/cost_previous =   0.981587321196\n",
      "cost =  0.00014459455135  ; cost/cost_previous =   0.98192009679\n",
      "cost =  0.000142026705377  ; cost/cost_previous =   0.982241059922\n",
      "cost =  0.000139548457036  ; cost/cost_previous =   0.982550828491\n",
      "cost =  0.000137155197934  ; cost/cost_previous =   0.982849978043\n",
      "cost =  0.00013484263036  ; cost/cost_previous =   0.98313904534\n",
      "cost =  0.000132606741542  ; cost/cost_previous =   0.983418531569\n",
      "cost =  0.000130443780415  ; cost/cost_previous =   0.983688905246\n",
      "cost =  0.000128350236636  ; cost/cost_previous =   0.983950604831\n",
      "cost =  0.000126322821574  ; cost/cost_previous =   0.984204041101\n",
      "cost =  0.000124358451081  ; cost/cost_previous =   0.984449599303\n",
      "cost =  0.000122454229846  ; cost/cost_previous =   0.984687641103\n",
      "cost =  0.000120607437158  ; cost/cost_previous =   0.984918506365\n",
      "cost =  0.000118815513942  ; cost/cost_previous =   0.985142514771\n",
      "cost =  0.000117076050932  ; cost/cost_previous =   0.985359967294\n",
      "cost =  0.000115386777867  ; cost/cost_previous =   0.985571147548\n",
      "cost =  0.000113745553611  ; cost/cost_previous =   0.985776323022\n",
      "cost =  0.0001121503571  ; cost/cost_previous =   0.98597574621\n",
      "cost =  0.000110599279042  ; cost/cost_previous =   0.986169655647\n",
      "cost =  0.000109090514298  ; cost/cost_previous =   0.986358276859\n",
      "cost =  0.000107622354873  ; cost/cost_previous =   0.986541823239\n",
      "cost =  0.000106193183473  ; cost/cost_previous =   0.986720496854\n",
      "cost =  0.000104801467559  ; cost/cost_previous =   0.986894489183\n",
      "cost =  0.000103445753867  ; cost/cost_previous =   0.987063981804\n",
      "cost =  0.000102124663354  ; cost/cost_previous =   0.987229147023\n",
      "cost =  0.00010083688651  ; cost/cost_previous =   0.987390148462\n",
      "cost =  9.95811790409e-05  ; cost/cost_previous =   0.987547141597\n",
      "cost =  9.83563578497e-05  ; cost/cost_previous =   0.987700274259\n",
      "cost =  9.7161297326e-05  ; cost/cost_previous =   0.987849687099\n",
      "cost =  9.59949258941e-05  ; cost/cost_previous =   0.987995514016\n",
      "cost =  9.48562228095e-05  ; cost/cost_previous =   0.98813788256\n",
      "cost =  9.37442151809e-05  ; cost/cost_previous =   0.988276914305\n",
      "cost =  9.26579751978e-05  ; cost/cost_previous =   0.988412725191\n",
      "cost =  9.15966175502e-05  ; cost/cost_previous =   0.988545425849\n",
      "cost =  9.05592970221e-05  ; cost/cost_previous =   0.988675121901\n",
      "cost =  8.95452062478e-05  ; cost/cost_previous =   0.98880191424\n",
      "cost =  8.85535736161e-05  ; cost/cost_previous =   0.988925899294\n",
      "cost =  8.75836613134e-05  ; cost/cost_previous =   0.989047169267\n",
      "cost =  8.66347634932e-05  ; cost/cost_previous =   0.989165812368\n",
      "cost =  8.57062045633e-05  ; cost/cost_previous =   0.989281913028\n",
      "cost =  8.47973375821e-05  ; cost/cost_previous =   0.989395552097\n",
      "cost =  8.39075427559e-05  ; cost/cost_previous =   0.989506807035\n",
      "cost =  8.30362260299e-05  ; cost/cost_previous =   0.989615752084\n",
      "cost =  8.21828177656e-05  ; cost/cost_previous =   0.989722458436\n",
      "cost =  8.13467714992e-05  ; cost/cost_previous =   0.989826994387\n"
     ]
    }
   ],
   "source": [
    "iteration_number=1000000\n",
    "for i in range(iteration_number):\n",
    "\n",
    "    # forward\n",
    "\n",
    "    learning_rate=0.0075*5\n",
    "\n",
    "    Z1=W1.dot(X)+B1   \n",
    "    A1=sigmoid(Z1)\n",
    "    A1=np.array(A1,dtype=np.float128)\n",
    "\n",
    "    Z2=W2.dot(A1)+B2\n",
    "    A2=sigmoid(Z2)\n",
    "    A2=np.array(A2,dtype=np.float128)\n",
    "\n",
    "    Z3=W3.dot(A2)+B3\n",
    "    A3=sigmoid(Z3)\n",
    "    A3=np.array(A3,dtype=np.float128)\n",
    "\n",
    "\n",
    "    dA3 = - (np.divide(Y, A3) - np.divide(1 - Y, 1 - A3))\n",
    "    dA3=np.array(dA3,dtype=np.float128)\n",
    "\n",
    "    if i %(iteration_number/100)==0:\n",
    "\n",
    "        cost_list.append(cost(A3,Y))\n",
    "        iterations.append(i)\n",
    "        try:\n",
    "            print(\"cost = \",cost_list[-1],\" ; cost/cost_previous =  \",(cost_list[-1]/cost_list[-2]))\n",
    "        except:\n",
    "            print(\"cost = \",cost_list[-1])\n",
    "\n",
    "        \n",
    "        \n",
    "        \n",
    "    # backforward\n",
    "\n",
    "\n",
    "\n",
    "\n",
    "    m=Y.shape[1]\n",
    "    \n",
    "\n",
    "    dW3=(1/m)*(dA3*sigmoid(Z3,deri=True)).dot(A2.T )\n",
    "\n",
    "    dZ3=dA3*sigmoid(Z3,deri=True)\n",
    "\n",
    "    dB3=(1/m)*np.sum(dZ3,axis=1,keepdims=True)\n",
    "\n",
    "\n",
    "    dA2=W3.T.dot(dZ3)\n",
    "\n",
    "    dZ2=dA2*sigmoid(Z2,deri=True)\n",
    "\n",
    "    dW2=(1/m)*dZ2.dot(A1.T)\n",
    "\n",
    "    dB2=(1/m)*np.sum(dZ2,axis=1,keepdims=True)\n",
    "\n",
    "    dA1=W2.T.dot(dZ2)\n",
    "    dZ1=dA1*sigmoid(Z1,deri=True)\n",
    "\n",
    "    A0=X\n",
    "\n",
    "    dW1=(1/m)*dZ1.dot(A0.T)\n",
    "\n",
    "    dB1=(1/m)*np.sum(dZ1,axis=1,keepdims=True)\n",
    "\n",
    "\n",
    "\n",
    "    W1+=-learning_rate* dW1\n",
    "    B1+=-learning_rate* dB1\n",
    "    W2+=-learning_rate* dW2\n",
    "    B2+=-learning_rate* dB2\n",
    "    W3+=-learning_rate* dW3\n",
    "    B3+=-learning_rate* dB3\n"
   ]
  },
  {
   "cell_type": "code",
   "execution_count": 16,
   "metadata": {
    "collapsed": false
   },
   "outputs": [
    {
     "data": {
      "text/plain": [
       "[0.69399186306266976684,\n",
       " 0.019946565792473972478,\n",
       " 0.0058280993209797983448,\n",
       " 0.0033889200794521835346,\n",
       " 0.0023858283638469174514,\n",
       " 0.0018400150452585512466,\n",
       " 0.0014970857883714472653,\n",
       " 0.001261735386844258871,\n",
       " 0.0010902416801831527567,\n",
       " 0.00095973765960947646892,\n",
       " 0.0008571055132395416418,\n",
       " 0.00077428300200666033876,\n",
       " 0.00070604269159281058332,\n",
       " 0.00064884701875729352293,\n",
       " 0.00060021667520912283481,\n",
       " 0.00055836252333842647736,\n",
       " 0.00052196112383634020469,\n",
       " 0.0004900125059371549482,\n",
       " 0.00046174705419720033373,\n",
       " 0.00043656280305215842286,\n",
       " 0.00041398215348173502548,\n",
       " 0.00039362133887221052222,\n",
       " 0.0003751684644541813907,\n",
       " 0.00035836743764592917489,\n",
       " 0.00034300602481158388728,\n",
       " 0.00032890684911706428999,\n",
       " 0.0003159205179150204891,\n",
       " 0.00030392031429777438141,\n",
       " 0.0002927980527115480407,\n",
       " 0.00028246081135799542362,\n",
       " 0.00027282833236606658157,\n",
       " 0.00026383093578273968019,\n",
       " 0.00025540783269784146012,\n",
       " 0.00024750575116656604205,\n",
       " 0.00024007780929507269435,\n",
       " 0.00023308258513493230544,\n",
       " 0.00022648334442394130272,\n",
       " 0.00022024739578304818261,\n",
       " 0.00021434554948677148027,\n",
       " 0.00020875166090494036451,\n",
       " 0.00020344224355574579901,\n",
       " 0.00019839613969553758638,\n",
       " 0.00019359423870596974319,\n",
       " 0.00018901923537898759622,\n",
       " 0.00018465542165753587078,\n",
       " 0.00018048850655177426021,\n",
       " 0.00017650545988207970379,\n",
       " 0.00017269437625036983237,\n",
       " 0.00016904435624944401124,\n",
       " 0.00016554540241470699284,\n",
       " 0.00016218832782704559216,\n",
       " 0.00015896467560809606177,\n",
       " 0.00015586664782296976966,\n",
       " 0.00015288704253245116941,\n",
       " 0.00015001919792543289091,\n",
       " 0.00014725694261957773484,\n",
       " 0.00014459455135005835932,\n",
       " 0.00014202670537707622894,\n",
       " 0.00013954845703610345665,\n",
       " 0.00013715519793388772309,\n",
       " 0.00013484263036009229299,\n",
       " 0.00013260674154164826002,\n",
       " 0.00013044378041537022705,\n",
       " 0.00012835023663615507522,\n",
       " 0.0001263228215736280453,\n",
       " 0.00012435845108097695466,\n",
       " 0.00012245422984610345673,\n",
       " 0.00012060743715811043277,\n",
       " 0.00011881551394201880361,\n",
       " 0.00011707605093189330492,\n",
       " 0.00011538677786731442598,\n",
       " 0.00011374555361141154492,\n",
       " 0.0001121503571001283987,\n",
       " 0.0001105992790421271997,\n",
       " 0.00010909051429782540396,\n",
       " 0.00010762235487349958308,\n",
       " 0.00010619318347342233092,\n",
       " 0.00010480146755875354001,\n",
       " 0.00010344575386740800508,\n",
       " 0.00010212466335364021337,\n",
       " 0.00010083688651036295453,\n",
       " 9.9581179040861734665e-05,\n",
       " 9.8356357849725212015e-05,\n",
       " 9.7161297326033411209e-05,\n",
       " 9.5994925894070127247e-05,\n",
       " 9.4856222809515260194e-05,\n",
       " 9.3744215180854637049e-05,\n",
       " 9.265797519780873285e-05,\n",
       " 9.1596617550208732744e-05,\n",
       " 9.0559297022144737112e-05,\n",
       " 8.9545206247752863507e-05,\n",
       " 8.8553573616054083374e-05,\n",
       " 8.7583661313413340331e-05,\n",
       " 8.6634763493230224017e-05,\n",
       " 8.5706204563295874668e-05,\n",
       " 8.4797337582073905754e-05,\n",
       " 8.3907542755921038762e-05,\n",
       " 8.3036226029922935151e-05,\n",
       " 8.2182817765580678248e-05,\n",
       " 8.1346771499185130492e-05]"
      ]
     },
     "execution_count": 16,
     "metadata": {},
     "output_type": "execute_result"
    }
   ],
   "source": [
    "cost_list"
   ]
  },
  {
   "cell_type": "code",
   "execution_count": 27,
   "metadata": {
    "collapsed": false
   },
   "outputs": [
    {
     "data": {
      "image/png": "[encoded data removed]",
      "text/plain": [
       "<matplotlib.figure.Figure at 0x7f1d752b7c50>"
      ]
     },
     "metadata": {},
     "output_type": "display_data"
    }
   ],
   "source": [
    "plt.plot(cost_list)\n",
    "plt.xlabel('number of iteration * 10000 ')\n",
    "plt.ylabel('total cost')\n",
    "plt.show()"
   ]
  },
  {
   "cell_type": "code",
   "execution_count": 18,
   "metadata": {
    "collapsed": false
   },
   "outputs": [
    {
     "data": {
      "text/plain": [
       "(1, 20)"
      ]
     },
     "execution_count": 18,
     "metadata": {},
     "output_type": "execute_result"
    }
   ],
   "source": [
    "Y_test.shape"
   ]
  },
  {
   "cell_type": "code",
   "execution_count": 19,
   "metadata": {
    "collapsed": false
   },
   "outputs": [
    {
     "data": {
      "text/plain": [
       "[0.69399186306266976684,\n",
       " 0.019946565792473972478,\n",
       " 0.0058280993209797983448,\n",
       " 0.0033889200794521835346,\n",
       " 0.0023858283638469174514,\n",
       " 0.0018400150452585512466,\n",
       " 0.0014970857883714472653,\n",
       " 0.001261735386844258871,\n",
       " 0.0010902416801831527567,\n",
       " 0.00095973765960947646892,\n",
       " 0.0008571055132395416418,\n",
       " 0.00077428300200666033876,\n",
       " 0.00070604269159281058332,\n",
       " 0.00064884701875729352293,\n",
       " 0.00060021667520912283481,\n",
       " 0.00055836252333842647736,\n",
       " 0.00052196112383634020469,\n",
       " 0.0004900125059371549482,\n",
       " 0.00046174705419720033373,\n",
       " 0.00043656280305215842286,\n",
       " 0.00041398215348173502548,\n",
       " 0.00039362133887221052222,\n",
       " 0.0003751684644541813907,\n",
       " 0.00035836743764592917489,\n",
       " 0.00034300602481158388728,\n",
       " 0.00032890684911706428999,\n",
       " 0.0003159205179150204891,\n",
       " 0.00030392031429777438141,\n",
       " 0.0002927980527115480407,\n",
       " 0.00028246081135799542362,\n",
       " 0.00027282833236606658157,\n",
       " 0.00026383093578273968019,\n",
       " 0.00025540783269784146012,\n",
       " 0.00024750575116656604205,\n",
       " 0.00024007780929507269435,\n",
       " 0.00023308258513493230544,\n",
       " 0.00022648334442394130272,\n",
       " 0.00022024739578304818261,\n",
       " 0.00021434554948677148027,\n",
       " 0.00020875166090494036451,\n",
       " 0.00020344224355574579901,\n",
       " 0.00019839613969553758638,\n",
       " 0.00019359423870596974319,\n",
       " 0.00018901923537898759622,\n",
       " 0.00018465542165753587078,\n",
       " 0.00018048850655177426021,\n",
       " 0.00017650545988207970379,\n",
       " 0.00017269437625036983237,\n",
       " 0.00016904435624944401124,\n",
       " 0.00016554540241470699284,\n",
       " 0.00016218832782704559216,\n",
       " 0.00015896467560809606177,\n",
       " 0.00015586664782296976966,\n",
       " 0.00015288704253245116941,\n",
       " 0.00015001919792543289091,\n",
       " 0.00014725694261957773484,\n",
       " 0.00014459455135005835932,\n",
       " 0.00014202670537707622894,\n",
       " 0.00013954845703610345665,\n",
       " 0.00013715519793388772309,\n",
       " 0.00013484263036009229299,\n",
       " 0.00013260674154164826002,\n",
       " 0.00013044378041537022705,\n",
       " 0.00012835023663615507522,\n",
       " 0.0001263228215736280453,\n",
       " 0.00012435845108097695466,\n",
       " 0.00012245422984610345673,\n",
       " 0.00012060743715811043277,\n",
       " 0.00011881551394201880361,\n",
       " 0.00011707605093189330492,\n",
       " 0.00011538677786731442598,\n",
       " 0.00011374555361141154492,\n",
       " 0.0001121503571001283987,\n",
       " 0.0001105992790421271997,\n",
       " 0.00010909051429782540396,\n",
       " 0.00010762235487349958308,\n",
       " 0.00010619318347342233092,\n",
       " 0.00010480146755875354001,\n",
       " 0.00010344575386740800508,\n",
       " 0.00010212466335364021337,\n",
       " 0.00010083688651036295453,\n",
       " 9.9581179040861734665e-05,\n",
       " 9.8356357849725212015e-05,\n",
       " 9.7161297326033411209e-05,\n",
       " 9.5994925894070127247e-05,\n",
       " 9.4856222809515260194e-05,\n",
       " 9.3744215180854637049e-05,\n",
       " 9.265797519780873285e-05,\n",
       " 9.1596617550208732744e-05,\n",
       " 9.0559297022144737112e-05,\n",
       " 8.9545206247752863507e-05,\n",
       " 8.8553573616054083374e-05,\n",
       " 8.7583661313413340331e-05,\n",
       " 8.6634763493230224017e-05,\n",
       " 8.5706204563295874668e-05,\n",
       " 8.4797337582073905754e-05,\n",
       " 8.3907542755921038762e-05,\n",
       " 8.3036226029922935151e-05,\n",
       " 8.2182817765580678248e-05,\n",
       " 8.1346771499185130492e-05]"
      ]
     },
     "execution_count": 19,
     "metadata": {},
     "output_type": "execute_result"
    }
   ],
   "source": [
    "cost_list"
   ]
  },
  {
   "cell_type": "code",
   "execution_count": 20,
   "metadata": {
    "collapsed": true
   },
   "outputs": [],
   "source": [
    "# X_test_mean=X_test.mean(axis=1).reshape(X_test.shape[0],1)\n",
    "# X_test_std=X_test.std(axis=1).reshape(X_test.shape[0],1)\n",
    "\n",
    "X_test=(X_test-X_mean)/X_std"
   ]
  },
  {
   "cell_type": "code",
   "execution_count": 21,
   "metadata": {
    "collapsed": false
   },
   "outputs": [
    {
     "data": {
      "text/plain": [
       "8.0449143475427322136e-05"
      ]
     },
     "execution_count": 21,
     "metadata": {},
     "output_type": "execute_result"
    }
   ],
   "source": [
    "Z1=W1.dot(X_test)+B1   \n",
    "A1=sigmoid(Z1)\n",
    "\n",
    "Z2=W2.dot(A1)+B2\n",
    "A2=sigmoid(Z2)\n",
    "\n",
    "Z3=W3.dot(A2)+B3\n",
    "A3=sigmoid(Z3)\n",
    "\n",
    "cost(A3,Y_test)"
   ]
  },
  {
   "cell_type": "code",
   "execution_count": null,
   "metadata": {
    "collapsed": true
   },
   "outputs": [],
   "source": []
  },
  {
   "cell_type": "code",
   "execution_count": 22,
   "metadata": {
    "collapsed": false,
    "scrolled": false
   },
   "outputs": [
    {
     "data": {
      "text/plain": [
       "array([ 0.9999,  0.0001,  0.9999,  0.0001,  0.9999,  0.0001,  0.0001,\n",
       "        0.0001,  0.0001,  0.9999,  0.0001,  0.9999,  0.0001,  0.9999,\n",
       "        0.9999,  0.0001,  0.9999,  0.9999,  0.0001,  0.9999], dtype=float128)"
      ]
     },
     "execution_count": 22,
     "metadata": {},
     "output_type": "execute_result"
    }
   ],
   "source": [
    "A3[0].round(4)"
   ]
  },
  {
   "cell_type": "code",
   "execution_count": 23,
   "metadata": {
    "collapsed": true
   },
   "outputs": [],
   "source": [
    "Y_estimate=A3[0].round()"
   ]
  },
  {
   "cell_type": "code",
   "execution_count": 24,
   "metadata": {
    "collapsed": false,
    "scrolled": true
   },
   "outputs": [],
   "source": [
    "Y_real=Y_test[0]"
   ]
  },
  {
   "cell_type": "code",
   "execution_count": 25,
   "metadata": {
    "collapsed": false
   },
   "outputs": [
    {
     "data": {
      "text/plain": [
       "1.0"
      ]
     },
     "execution_count": 25,
     "metadata": {},
     "output_type": "execute_result"
    }
   ],
   "source": [
    "recall_score(Y_real,Y_estimate)"
   ]
  },
  {
   "cell_type": "code",
   "execution_count": 26,
   "metadata": {
    "collapsed": false
   },
   "outputs": [
    {
     "data": {
      "text/plain": [
       "1.0"
      ]
     },
     "execution_count": 26,
     "metadata": {},
     "output_type": "execute_result"
    }
   ],
   "source": [
    "precision_score(Y_real,Y_estimate)"
   ]
  },
  {
   "cell_type": "code",
   "execution_count": null,
   "metadata": {
    "collapsed": true
   },
   "outputs": [],
   "source": []
  }
 ],
 "metadata": {
  "kernelspec": {
   "display_name": "Python 3",
   "language": "python",
   "name": "python3"
  },
  "language_info": {
   "codemirror_mode": {
    "name": "ipython",
    "version": 3
   },
   "file_extension": ".py",
   "mimetype": "text/x-python",
   "name": "python",
   "nbconvert_exporter": "python",
   "pygments_lexer": "ipython3",
   "version": "3.5.4"
  }
 },
 "nbformat": 4,
 "nbformat_minor": 2
}
